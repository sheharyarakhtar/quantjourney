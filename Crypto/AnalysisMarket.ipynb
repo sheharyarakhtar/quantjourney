{
 "cells": [
  {
   "cell_type": "code",
   "execution_count": 1,
   "metadata": {},
   "outputs": [
    {
     "data": {
      "text/plain": [
       "True"
      ]
     },
     "execution_count": 1,
     "metadata": {},
     "output_type": "execute_result"
    }
   ],
   "source": [
    "import pandas as pd\n",
    "import numpy as np\n",
    "import matplotlib.pyplot as plt\n",
    "import binance as bnb\n",
    "from dotenv import load_dotenv\n",
    "import requests\n",
    "import json\n",
    "import os\n",
    "\n",
    "load_dotenv()"
   ]
  },
  {
   "cell_type": "code",
   "execution_count": 2,
   "metadata": {},
   "outputs": [],
   "source": [
    "def get_coins_data():\n",
    "    url = \"https://www.binance.com/bapi/apex/v1/friendly/apex/marketing/complianceSymbolList\"\n",
    "    response = requests.get(url)\n",
    "    json_data = json.loads(response.text)\n",
    "\n",
    "    coin_data = []\n",
    "    for i in range(len(json_data['data'])):\n",
    "        try:\n",
    "            coin_info = {\n",
    "                'Coin': json_data['data'][i].get('name', 'N/A'),\n",
    "                'Symbol': json_data['data'][i].get('baseAsset', 'N/A'),\n",
    "                'Circulating Supply': json_data['data'][i].get('circulatingSupply', 0),\n",
    "                'Max Supply': json_data['data'][i].get('maxSupply', 0),\n",
    "                'Total Supply': json_data['data'][i].get('totalSupply', 0),\n",
    "                'Price': json_data['data'][i].get('price', 0),\n",
    "                'Market Cap': json_data['data'][i].get('marketCap', 0)\n",
    "            }\n",
    "            \n",
    "            # Add tags as separate columns\n",
    "            tags = json_data['data'][i].get('tags', [])\n",
    "            for tag in tags:\n",
    "                coin_info[f'Tag_{tag}'] = True\n",
    "                \n",
    "            coin_data.append(coin_info)\n",
    "        except Exception as e:\n",
    "            print(f\"Error processing coin at index {i}: {e}\")\n",
    "\n",
    "    # Create DataFrame\n",
    "    coins_df = pd.DataFrame(coin_data)\n",
    "\n",
    "    # Fill NaN values in tag columns with False\n",
    "    tag_columns = [col for col in coins_df.columns if col.startswith('Tag_')]\n",
    "    coins_df[tag_columns] = coins_df[tag_columns].fillna(False)\n",
    "    return coins_df\n",
    "\n",
    "def get_history():\n",
    "    history = pd.read_csv('history.csv')\n",
    "    return history"
   ]
  },
  {
   "cell_type": "code",
   "execution_count": 3,
   "metadata": {},
   "outputs": [
    {
     "name": "stderr",
     "output_type": "stream",
     "text": [
      "/var/folders/zg/dk0qffx55tj5q4d2hvpp5m2c0000gn/T/ipykernel_76368/4293428954.py:33: FutureWarning: Downcasting object dtype arrays on .fillna, .ffill, .bfill is deprecated and will change in a future version. Call result.infer_objects(copy=False) instead. To opt-in to the future behavior, set `pd.set_option('future.no_silent_downcasting', True)`\n",
      "  coins_df[tag_columns] = coins_df[tag_columns].fillna(False)\n"
     ]
    },
    {
     "data": {
      "text/html": [
       "<div>\n",
       "<style scoped>\n",
       "    .dataframe tbody tr th:only-of-type {\n",
       "        vertical-align: middle;\n",
       "    }\n",
       "\n",
       "    .dataframe tbody tr th {\n",
       "        vertical-align: top;\n",
       "    }\n",
       "\n",
       "    .dataframe thead th {\n",
       "        text-align: right;\n",
       "    }\n",
       "</style>\n",
       "<table border=\"1\" class=\"dataframe\">\n",
       "  <thead>\n",
       "    <tr style=\"text-align: right;\">\n",
       "      <th></th>\n",
       "      <th>dateTime</th>\n",
       "      <th>Tag_Meme</th>\n",
       "      <th>Tag_Seed</th>\n",
       "      <th>Tag_bnbchain</th>\n",
       "      <th>Tag_Launchpool</th>\n",
       "      <th>Tag_defi</th>\n",
       "      <th>Tag_Polkadot</th>\n",
       "      <th>Tag_Layer1_Layer2</th>\n",
       "      <th>Tag_Gaming</th>\n",
       "      <th>Tag_Payments</th>\n",
       "      <th>...</th>\n",
       "      <th>Tag_Metaverse</th>\n",
       "      <th>Tag_Monitoring</th>\n",
       "      <th>Tag_Launchpad</th>\n",
       "      <th>Tag_liquid_staking</th>\n",
       "      <th>Tag_pow</th>\n",
       "      <th>Tag_storage-zone</th>\n",
       "      <th>Tag_RWA</th>\n",
       "      <th>Tag_Megadrop</th>\n",
       "      <th>Tag_newListing</th>\n",
       "      <th>Market Cap Total</th>\n",
       "    </tr>\n",
       "  </thead>\n",
       "  <tbody>\n",
       "    <tr>\n",
       "      <th>0</th>\n",
       "      <td>2024-05-28 00:00:00</td>\n",
       "      <td>4.324021e+10</td>\n",
       "      <td>2.283713e+11</td>\n",
       "      <td>6.500350e+10</td>\n",
       "      <td>1.165481e+11</td>\n",
       "      <td>4.332612e+11</td>\n",
       "      <td>2.290872e+10</td>\n",
       "      <td>4.968329e+11</td>\n",
       "      <td>7.960780e+10</td>\n",
       "      <td>6.013539e+10</td>\n",
       "      <td>...</td>\n",
       "      <td>3.235857e+10</td>\n",
       "      <td>6.400124e+10</td>\n",
       "      <td>9.363940e+10</td>\n",
       "      <td>3.149949e+10</td>\n",
       "      <td>1.345887e+11</td>\n",
       "      <td>4.366975e+10</td>\n",
       "      <td>4.653334e+10</td>\n",
       "      <td>2.863590e+09</td>\n",
       "      <td>0.000000e+00</td>\n",
       "      <td>2.534277e+12</td>\n",
       "    </tr>\n",
       "    <tr>\n",
       "      <th>1</th>\n",
       "      <td>2024-05-29 00:00:00</td>\n",
       "      <td>4.267409e+10</td>\n",
       "      <td>2.253814e+11</td>\n",
       "      <td>6.415244e+10</td>\n",
       "      <td>1.150222e+11</td>\n",
       "      <td>4.275888e+11</td>\n",
       "      <td>2.260879e+10</td>\n",
       "      <td>4.903282e+11</td>\n",
       "      <td>7.856555e+10</td>\n",
       "      <td>5.934808e+10</td>\n",
       "      <td>...</td>\n",
       "      <td>3.193492e+10</td>\n",
       "      <td>6.316331e+10</td>\n",
       "      <td>9.241343e+10</td>\n",
       "      <td>3.108709e+10</td>\n",
       "      <td>1.328266e+11</td>\n",
       "      <td>4.309801e+10</td>\n",
       "      <td>4.592411e+10</td>\n",
       "      <td>2.826099e+09</td>\n",
       "      <td>0.000000e+00</td>\n",
       "      <td>2.501097e+12</td>\n",
       "    </tr>\n",
       "    <tr>\n",
       "      <th>2</th>\n",
       "      <td>2024-05-30 00:00:00</td>\n",
       "      <td>4.278158e+10</td>\n",
       "      <td>2.259491e+11</td>\n",
       "      <td>6.431403e+10</td>\n",
       "      <td>1.153119e+11</td>\n",
       "      <td>4.286658e+11</td>\n",
       "      <td>2.266574e+10</td>\n",
       "      <td>4.915632e+11</td>\n",
       "      <td>7.876344e+10</td>\n",
       "      <td>5.949756e+10</td>\n",
       "      <td>...</td>\n",
       "      <td>3.201535e+10</td>\n",
       "      <td>6.332240e+10</td>\n",
       "      <td>9.264620e+10</td>\n",
       "      <td>3.116539e+10</td>\n",
       "      <td>1.331612e+11</td>\n",
       "      <td>4.320656e+10</td>\n",
       "      <td>4.603978e+10</td>\n",
       "      <td>2.833217e+09</td>\n",
       "      <td>0.000000e+00</td>\n",
       "      <td>2.507397e+12</td>\n",
       "    </tr>\n",
       "    <tr>\n",
       "      <th>3</th>\n",
       "      <td>2024-05-31 00:00:00</td>\n",
       "      <td>4.249055e+10</td>\n",
       "      <td>2.244120e+11</td>\n",
       "      <td>6.387652e+10</td>\n",
       "      <td>1.145275e+11</td>\n",
       "      <td>4.257497e+11</td>\n",
       "      <td>2.251155e+10</td>\n",
       "      <td>4.882192e+11</td>\n",
       "      <td>7.822763e+10</td>\n",
       "      <td>5.909282e+10</td>\n",
       "      <td>...</td>\n",
       "      <td>3.179756e+10</td>\n",
       "      <td>6.289164e+10</td>\n",
       "      <td>9.201595e+10</td>\n",
       "      <td>3.095338e+10</td>\n",
       "      <td>1.322553e+11</td>\n",
       "      <td>4.291264e+10</td>\n",
       "      <td>4.572658e+10</td>\n",
       "      <td>2.813944e+09</td>\n",
       "      <td>0.000000e+00</td>\n",
       "      <td>2.490340e+12</td>\n",
       "    </tr>\n",
       "    <tr>\n",
       "      <th>4</th>\n",
       "      <td>2024-06-01 00:00:00</td>\n",
       "      <td>4.275489e+10</td>\n",
       "      <td>2.258081e+11</td>\n",
       "      <td>6.427390e+10</td>\n",
       "      <td>1.152400e+11</td>\n",
       "      <td>4.283983e+11</td>\n",
       "      <td>2.265160e+10</td>\n",
       "      <td>4.912565e+11</td>\n",
       "      <td>7.871429e+10</td>\n",
       "      <td>5.946044e+10</td>\n",
       "      <td>...</td>\n",
       "      <td>3.199538e+10</td>\n",
       "      <td>6.328290e+10</td>\n",
       "      <td>9.258840e+10</td>\n",
       "      <td>3.114594e+10</td>\n",
       "      <td>1.330781e+11</td>\n",
       "      <td>4.317960e+10</td>\n",
       "      <td>4.601105e+10</td>\n",
       "      <td>2.831449e+09</td>\n",
       "      <td>0.000000e+00</td>\n",
       "      <td>2.505833e+12</td>\n",
       "    </tr>\n",
       "    <tr>\n",
       "      <th>...</th>\n",
       "      <td>...</td>\n",
       "      <td>...</td>\n",
       "      <td>...</td>\n",
       "      <td>...</td>\n",
       "      <td>...</td>\n",
       "      <td>...</td>\n",
       "      <td>...</td>\n",
       "      <td>...</td>\n",
       "      <td>...</td>\n",
       "      <td>...</td>\n",
       "      <td>...</td>\n",
       "      <td>...</td>\n",
       "      <td>...</td>\n",
       "      <td>...</td>\n",
       "      <td>...</td>\n",
       "      <td>...</td>\n",
       "      <td>...</td>\n",
       "      <td>...</td>\n",
       "      <td>...</td>\n",
       "      <td>...</td>\n",
       "      <td>...</td>\n",
       "    </tr>\n",
       "    <tr>\n",
       "      <th>360</th>\n",
       "      <td>2025-05-23 00:00:00</td>\n",
       "      <td>8.984003e+10</td>\n",
       "      <td>4.197258e+11</td>\n",
       "      <td>1.045772e+11</td>\n",
       "      <td>2.013607e+11</td>\n",
       "      <td>4.839175e+11</td>\n",
       "      <td>2.267256e+10</td>\n",
       "      <td>5.489595e+11</td>\n",
       "      <td>9.635840e+10</td>\n",
       "      <td>5.951548e+10</td>\n",
       "      <td>...</td>\n",
       "      <td>3.372544e+10</td>\n",
       "      <td>7.184369e+10</td>\n",
       "      <td>9.692521e+10</td>\n",
       "      <td>3.500077e+10</td>\n",
       "      <td>1.332013e+11</td>\n",
       "      <td>4.321957e+10</td>\n",
       "      <td>5.597289e+10</td>\n",
       "      <td>8.785618e+09</td>\n",
       "      <td>2.536493e+10</td>\n",
       "      <td>3.179827e+12</td>\n",
       "    </tr>\n",
       "    <tr>\n",
       "      <th>361</th>\n",
       "      <td>2025-05-24 00:00:00</td>\n",
       "      <td>9.025783e+10</td>\n",
       "      <td>4.216777e+11</td>\n",
       "      <td>1.050635e+11</td>\n",
       "      <td>2.022971e+11</td>\n",
       "      <td>4.861679e+11</td>\n",
       "      <td>2.277800e+10</td>\n",
       "      <td>5.515123e+11</td>\n",
       "      <td>9.680650e+10</td>\n",
       "      <td>5.979225e+10</td>\n",
       "      <td>...</td>\n",
       "      <td>3.388228e+10</td>\n",
       "      <td>7.217779e+10</td>\n",
       "      <td>9.737595e+10</td>\n",
       "      <td>3.516354e+10</td>\n",
       "      <td>1.338208e+11</td>\n",
       "      <td>4.342056e+10</td>\n",
       "      <td>5.623319e+10</td>\n",
       "      <td>8.826475e+09</td>\n",
       "      <td>2.548289e+10</td>\n",
       "      <td>3.194615e+12</td>\n",
       "    </tr>\n",
       "    <tr>\n",
       "      <th>362</th>\n",
       "      <td>2025-05-25 00:00:00</td>\n",
       "      <td>9.109409e+10</td>\n",
       "      <td>4.255847e+11</td>\n",
       "      <td>1.060370e+11</td>\n",
       "      <td>2.041715e+11</td>\n",
       "      <td>4.906724e+11</td>\n",
       "      <td>2.298904e+10</td>\n",
       "      <td>5.566222e+11</td>\n",
       "      <td>9.770344e+10</td>\n",
       "      <td>6.034624e+10</td>\n",
       "      <td>...</td>\n",
       "      <td>3.419620e+10</td>\n",
       "      <td>7.284653e+10</td>\n",
       "      <td>9.827816e+10</td>\n",
       "      <td>3.548934e+10</td>\n",
       "      <td>1.350606e+11</td>\n",
       "      <td>4.382287e+10</td>\n",
       "      <td>5.675420e+10</td>\n",
       "      <td>8.908255e+09</td>\n",
       "      <td>2.571899e+10</td>\n",
       "      <td>3.224213e+12</td>\n",
       "    </tr>\n",
       "    <tr>\n",
       "      <th>363</th>\n",
       "      <td>2025-05-26 00:00:00</td>\n",
       "      <td>9.107303e+10</td>\n",
       "      <td>4.276410e+11</td>\n",
       "      <td>1.060125e+11</td>\n",
       "      <td>2.062790e+11</td>\n",
       "      <td>4.905590e+11</td>\n",
       "      <td>2.298373e+10</td>\n",
       "      <td>5.564936e+11</td>\n",
       "      <td>9.768085e+10</td>\n",
       "      <td>6.248702e+10</td>\n",
       "      <td>...</td>\n",
       "      <td>3.418830e+10</td>\n",
       "      <td>7.282969e+10</td>\n",
       "      <td>9.825544e+10</td>\n",
       "      <td>3.548113e+10</td>\n",
       "      <td>1.350294e+11</td>\n",
       "      <td>4.381273e+10</td>\n",
       "      <td>5.674108e+10</td>\n",
       "      <td>8.906195e+09</td>\n",
       "      <td>2.786777e+10</td>\n",
       "      <td>3.232087e+12</td>\n",
       "    </tr>\n",
       "    <tr>\n",
       "      <th>364</th>\n",
       "      <td>2025-05-27 00:00:00</td>\n",
       "      <td>9.165406e+10</td>\n",
       "      <td>4.303693e+11</td>\n",
       "      <td>1.066888e+11</td>\n",
       "      <td>2.075950e+11</td>\n",
       "      <td>4.936887e+11</td>\n",
       "      <td>2.313036e+10</td>\n",
       "      <td>5.600439e+11</td>\n",
       "      <td>9.830404e+10</td>\n",
       "      <td>6.288567e+10</td>\n",
       "      <td>...</td>\n",
       "      <td>3.440641e+10</td>\n",
       "      <td>7.329434e+10</td>\n",
       "      <td>9.888230e+10</td>\n",
       "      <td>3.570750e+10</td>\n",
       "      <td>1.358909e+11</td>\n",
       "      <td>4.409225e+10</td>\n",
       "      <td>5.710308e+10</td>\n",
       "      <td>8.963016e+09</td>\n",
       "      <td>2.804556e+10</td>\n",
       "      <td>3.252707e+12</td>\n",
       "    </tr>\n",
       "  </tbody>\n",
       "</table>\n",
       "<p>365 rows × 25 columns</p>\n",
       "</div>"
      ],
      "text/plain": [
       "                dateTime      Tag_Meme      Tag_Seed  Tag_bnbchain  \\\n",
       "0    2024-05-28 00:00:00  4.324021e+10  2.283713e+11  6.500350e+10   \n",
       "1    2024-05-29 00:00:00  4.267409e+10  2.253814e+11  6.415244e+10   \n",
       "2    2024-05-30 00:00:00  4.278158e+10  2.259491e+11  6.431403e+10   \n",
       "3    2024-05-31 00:00:00  4.249055e+10  2.244120e+11  6.387652e+10   \n",
       "4    2024-06-01 00:00:00  4.275489e+10  2.258081e+11  6.427390e+10   \n",
       "..                   ...           ...           ...           ...   \n",
       "360  2025-05-23 00:00:00  8.984003e+10  4.197258e+11  1.045772e+11   \n",
       "361  2025-05-24 00:00:00  9.025783e+10  4.216777e+11  1.050635e+11   \n",
       "362  2025-05-25 00:00:00  9.109409e+10  4.255847e+11  1.060370e+11   \n",
       "363  2025-05-26 00:00:00  9.107303e+10  4.276410e+11  1.060125e+11   \n",
       "364  2025-05-27 00:00:00  9.165406e+10  4.303693e+11  1.066888e+11   \n",
       "\n",
       "     Tag_Launchpool      Tag_defi  Tag_Polkadot  Tag_Layer1_Layer2  \\\n",
       "0      1.165481e+11  4.332612e+11  2.290872e+10       4.968329e+11   \n",
       "1      1.150222e+11  4.275888e+11  2.260879e+10       4.903282e+11   \n",
       "2      1.153119e+11  4.286658e+11  2.266574e+10       4.915632e+11   \n",
       "3      1.145275e+11  4.257497e+11  2.251155e+10       4.882192e+11   \n",
       "4      1.152400e+11  4.283983e+11  2.265160e+10       4.912565e+11   \n",
       "..              ...           ...           ...                ...   \n",
       "360    2.013607e+11  4.839175e+11  2.267256e+10       5.489595e+11   \n",
       "361    2.022971e+11  4.861679e+11  2.277800e+10       5.515123e+11   \n",
       "362    2.041715e+11  4.906724e+11  2.298904e+10       5.566222e+11   \n",
       "363    2.062790e+11  4.905590e+11  2.298373e+10       5.564936e+11   \n",
       "364    2.075950e+11  4.936887e+11  2.313036e+10       5.600439e+11   \n",
       "\n",
       "       Tag_Gaming  Tag_Payments  ...  Tag_Metaverse  Tag_Monitoring  \\\n",
       "0    7.960780e+10  6.013539e+10  ...   3.235857e+10    6.400124e+10   \n",
       "1    7.856555e+10  5.934808e+10  ...   3.193492e+10    6.316331e+10   \n",
       "2    7.876344e+10  5.949756e+10  ...   3.201535e+10    6.332240e+10   \n",
       "3    7.822763e+10  5.909282e+10  ...   3.179756e+10    6.289164e+10   \n",
       "4    7.871429e+10  5.946044e+10  ...   3.199538e+10    6.328290e+10   \n",
       "..            ...           ...  ...            ...             ...   \n",
       "360  9.635840e+10  5.951548e+10  ...   3.372544e+10    7.184369e+10   \n",
       "361  9.680650e+10  5.979225e+10  ...   3.388228e+10    7.217779e+10   \n",
       "362  9.770344e+10  6.034624e+10  ...   3.419620e+10    7.284653e+10   \n",
       "363  9.768085e+10  6.248702e+10  ...   3.418830e+10    7.282969e+10   \n",
       "364  9.830404e+10  6.288567e+10  ...   3.440641e+10    7.329434e+10   \n",
       "\n",
       "     Tag_Launchpad  Tag_liquid_staking       Tag_pow  Tag_storage-zone  \\\n",
       "0     9.363940e+10        3.149949e+10  1.345887e+11      4.366975e+10   \n",
       "1     9.241343e+10        3.108709e+10  1.328266e+11      4.309801e+10   \n",
       "2     9.264620e+10        3.116539e+10  1.331612e+11      4.320656e+10   \n",
       "3     9.201595e+10        3.095338e+10  1.322553e+11      4.291264e+10   \n",
       "4     9.258840e+10        3.114594e+10  1.330781e+11      4.317960e+10   \n",
       "..             ...                 ...           ...               ...   \n",
       "360   9.692521e+10        3.500077e+10  1.332013e+11      4.321957e+10   \n",
       "361   9.737595e+10        3.516354e+10  1.338208e+11      4.342056e+10   \n",
       "362   9.827816e+10        3.548934e+10  1.350606e+11      4.382287e+10   \n",
       "363   9.825544e+10        3.548113e+10  1.350294e+11      4.381273e+10   \n",
       "364   9.888230e+10        3.570750e+10  1.358909e+11      4.409225e+10   \n",
       "\n",
       "          Tag_RWA  Tag_Megadrop  Tag_newListing  Market Cap Total  \n",
       "0    4.653334e+10  2.863590e+09    0.000000e+00      2.534277e+12  \n",
       "1    4.592411e+10  2.826099e+09    0.000000e+00      2.501097e+12  \n",
       "2    4.603978e+10  2.833217e+09    0.000000e+00      2.507397e+12  \n",
       "3    4.572658e+10  2.813944e+09    0.000000e+00      2.490340e+12  \n",
       "4    4.601105e+10  2.831449e+09    0.000000e+00      2.505833e+12  \n",
       "..            ...           ...             ...               ...  \n",
       "360  5.597289e+10  8.785618e+09    2.536493e+10      3.179827e+12  \n",
       "361  5.623319e+10  8.826475e+09    2.548289e+10      3.194615e+12  \n",
       "362  5.675420e+10  8.908255e+09    2.571899e+10      3.224213e+12  \n",
       "363  5.674108e+10  8.906195e+09    2.786777e+10      3.232087e+12  \n",
       "364  5.710308e+10  8.963016e+09    2.804556e+10      3.252707e+12  \n",
       "\n",
       "[365 rows x 25 columns]"
      ]
     },
     "execution_count": 3,
     "metadata": {},
     "output_type": "execute_result"
    }
   ],
   "source": [
    "# Get tag columns once to avoid repeated filtering\n",
    "history = get_history()\n",
    "coins_df = get_coins_data()\n",
    "history['Coin']= history.Coin.apply(lambda x: x.replace('USDT',''))\n",
    "final_df = history.merge(coins_df, on = 'Coin', how = 'left')\n",
    "final_df[final_df['Tag_defi'] == True]\n",
    "\n",
    "tag_columns = [col for col in final_df.columns if 'Tag' in col]\n",
    "\n",
    "# Use inplace operations where possible to avoid copies\n",
    "temp_df = final_df.copy()\n",
    "temp_df = temp_df[['dateTime']+tag_columns]\n",
    "temp_df.fillna(0, inplace=True)\n",
    "temp_df[tag_columns] = temp_df[tag_columns].astype(int)\n",
    "temp_df['rowsum'] = temp_df[tag_columns].sum(axis=1)\n",
    "# Normalize the tag columns by dividing each value by the row sum\n",
    "# This is a fast vectorized operation that works well for large dataframes\n",
    "temp_df[tag_columns] = temp_df[tag_columns].div(temp_df['rowsum'], axis=0)\n",
    "temp_df = temp_df[['dateTime']+tag_columns].groupby('dateTime').sum()\n",
    "temp_df['rowsum'] = temp_df[tag_columns].sum(axis=1)\n",
    "temp_df[tag_columns] = temp_df[tag_columns].div(temp_df['rowsum'], axis=0)\n",
    "\n",
    "history['Coin']= history.Coin.apply(lambda x: x.replace('USDT',''))\n",
    "final_df = history.merge(coins_df, on = 'Coin', how = 'left')\n",
    "final_df['Market Cap'] = final_df['close'] * final_df['Circulating Supply']\n",
    "market_cap_by_day = final_df.groupby(['dateTime']).agg({'Market Cap': 'sum'}).reset_index().rename(columns = {'Market Cap': 'Market Cap Total'})\n",
    "\n",
    "temp_df = temp_df.merge(market_cap_by_day, on = 'dateTime', how = 'left').drop(columns = ['rowsum'])\n",
    "temp_df[tag_columns] = temp_df[tag_columns].multiply(temp_df['Market Cap Total'], axis=0)\n",
    "temp_df\n"
   ]
  },
  {
   "cell_type": "code",
   "execution_count": 7,
   "metadata": {},
   "outputs": [
    {
     "data": {
      "application/vnd.plotly.v1+json": {
       "config": {
        "plotlyServerURL": "https://plot.ly"
       },
       "data": [
        {
         "hovertemplate": "<b>%{y:.2%}</b><extra></extra>",
         "legendgroup": "Tag_Infrastructure",
         "line": {
          "color": "#636efa",
          "dash": "solid"
         },
         "marker": {
          "symbol": "circle"
         },
         "mode": "lines+markers",
         "name": "Tag_Infrastructure",
         "showlegend": true,
         "type": "scattergl",
         "x": [
          "2024-05-28 00:00:00",
          "2024-05-29 00:00:00",
          "2024-05-30 00:00:00",
          "2024-05-31 00:00:00",
          "2024-06-01 00:00:00",
          "2024-06-02 00:00:00",
          "2024-06-03 00:00:00",
          "2024-06-04 00:00:00",
          "2024-06-05 00:00:00",
          "2024-06-06 00:00:00",
          "2024-06-07 00:00:00",
          "2024-06-08 00:00:00",
          "2024-06-09 00:00:00",
          "2024-06-10 00:00:00",
          "2024-06-11 00:00:00",
          "2024-06-12 00:00:00",
          "2024-06-13 00:00:00",
          "2024-06-14 00:00:00",
          "2024-06-15 00:00:00",
          "2024-06-16 00:00:00",
          "2024-06-17 00:00:00",
          "2024-06-18 00:00:00",
          "2024-06-19 00:00:00",
          "2024-06-20 00:00:00",
          "2024-06-21 00:00:00",
          "2024-06-22 00:00:00",
          "2024-06-23 00:00:00",
          "2024-06-24 00:00:00",
          "2024-06-25 00:00:00",
          "2024-06-26 00:00:00",
          "2024-06-27 00:00:00",
          "2024-06-28 00:00:00",
          "2024-06-29 00:00:00",
          "2024-06-30 00:00:00",
          "2024-07-01 00:00:00",
          "2024-07-02 00:00:00",
          "2024-07-03 00:00:00",
          "2024-07-04 00:00:00",
          "2024-07-05 00:00:00",
          "2024-07-06 00:00:00",
          "2024-07-07 00:00:00",
          "2024-07-08 00:00:00",
          "2024-07-09 00:00:00",
          "2024-07-10 00:00:00",
          "2024-07-11 00:00:00",
          "2024-07-12 00:00:00",
          "2024-07-13 00:00:00",
          "2024-07-14 00:00:00",
          "2024-07-15 00:00:00",
          "2024-07-16 00:00:00",
          "2024-07-17 00:00:00",
          "2024-07-18 00:00:00",
          "2024-07-19 00:00:00",
          "2024-07-20 00:00:00",
          "2024-07-21 00:00:00",
          "2024-07-22 00:00:00",
          "2024-07-23 00:00:00",
          "2024-07-24 00:00:00",
          "2024-07-25 00:00:00",
          "2024-07-26 00:00:00",
          "2024-07-27 00:00:00",
          "2024-07-28 00:00:00",
          "2024-07-29 00:00:00",
          "2024-07-30 00:00:00",
          "2024-07-31 00:00:00",
          "2024-08-01 00:00:00",
          "2024-08-02 00:00:00",
          "2024-08-03 00:00:00",
          "2024-08-04 00:00:00",
          "2024-08-05 00:00:00",
          "2024-08-06 00:00:00",
          "2024-08-07 00:00:00",
          "2024-08-08 00:00:00",
          "2024-08-09 00:00:00",
          "2024-08-10 00:00:00",
          "2024-08-11 00:00:00",
          "2024-08-12 00:00:00",
          "2024-08-13 00:00:00",
          "2024-08-14 00:00:00",
          "2024-08-15 00:00:00",
          "2024-08-16 00:00:00",
          "2024-08-17 00:00:00",
          "2024-08-18 00:00:00",
          "2024-08-19 00:00:00",
          "2024-08-20 00:00:00",
          "2024-08-21 00:00:00",
          "2024-08-22 00:00:00",
          "2024-08-23 00:00:00",
          "2024-08-24 00:00:00",
          "2024-08-25 00:00:00",
          "2024-08-26 00:00:00",
          "2024-08-27 00:00:00",
          "2024-08-28 00:00:00",
          "2024-08-29 00:00:00",
          "2024-08-30 00:00:00",
          "2024-08-31 00:00:00",
          "2024-09-01 00:00:00",
          "2024-09-02 00:00:00",
          "2024-09-03 00:00:00",
          "2024-09-04 00:00:00",
          "2024-09-05 00:00:00",
          "2024-09-06 00:00:00",
          "2024-09-07 00:00:00",
          "2024-09-08 00:00:00",
          "2024-09-09 00:00:00",
          "2024-09-10 00:00:00",
          "2024-09-11 00:00:00",
          "2024-09-12 00:00:00",
          "2024-09-13 00:00:00",
          "2024-09-14 00:00:00",
          "2024-09-15 00:00:00",
          "2024-09-16 00:00:00",
          "2024-09-17 00:00:00",
          "2024-09-18 00:00:00",
          "2024-09-19 00:00:00",
          "2024-09-20 00:00:00",
          "2024-09-21 00:00:00",
          "2024-09-22 00:00:00",
          "2024-09-23 00:00:00",
          "2024-09-24 00:00:00",
          "2024-09-25 00:00:00",
          "2024-09-26 00:00:00",
          "2024-09-27 00:00:00",
          "2024-09-28 00:00:00",
          "2024-09-29 00:00:00",
          "2024-09-30 00:00:00",
          "2024-10-01 00:00:00",
          "2024-10-02 00:00:00",
          "2024-10-03 00:00:00",
          "2024-10-04 00:00:00",
          "2024-10-05 00:00:00",
          "2024-10-06 00:00:00",
          "2024-10-07 00:00:00",
          "2024-10-08 00:00:00",
          "2024-10-09 00:00:00",
          "2024-10-10 00:00:00",
          "2024-10-11 00:00:00",
          "2024-10-12 00:00:00",
          "2024-10-13 00:00:00",
          "2024-10-14 00:00:00",
          "2024-10-15 00:00:00",
          "2024-10-16 00:00:00",
          "2024-10-17 00:00:00",
          "2024-10-18 00:00:00",
          "2024-10-19 00:00:00",
          "2024-10-20 00:00:00",
          "2024-10-21 00:00:00",
          "2024-10-22 00:00:00",
          "2024-10-23 00:00:00",
          "2024-10-24 00:00:00",
          "2024-10-25 00:00:00",
          "2024-10-26 00:00:00",
          "2024-10-27 00:00:00",
          "2024-10-28 00:00:00",
          "2024-10-29 00:00:00",
          "2024-10-30 00:00:00",
          "2024-10-31 00:00:00",
          "2024-11-01 00:00:00",
          "2024-11-02 00:00:00",
          "2024-11-03 00:00:00",
          "2024-11-04 00:00:00",
          "2024-11-05 00:00:00",
          "2024-11-06 00:00:00",
          "2024-11-07 00:00:00",
          "2024-11-08 00:00:00",
          "2024-11-09 00:00:00",
          "2024-11-10 00:00:00",
          "2024-11-11 00:00:00",
          "2024-11-12 00:00:00",
          "2024-11-13 00:00:00",
          "2024-11-14 00:00:00",
          "2024-11-15 00:00:00",
          "2024-11-16 00:00:00",
          "2024-11-17 00:00:00",
          "2024-11-18 00:00:00",
          "2024-11-19 00:00:00",
          "2024-11-20 00:00:00",
          "2024-11-21 00:00:00",
          "2024-11-22 00:00:00",
          "2024-11-23 00:00:00",
          "2024-11-24 00:00:00",
          "2024-11-25 00:00:00",
          "2024-11-26 00:00:00",
          "2024-11-27 00:00:00",
          "2024-11-28 00:00:00",
          "2024-11-29 00:00:00",
          "2024-11-30 00:00:00",
          "2024-12-01 00:00:00",
          "2024-12-02 00:00:00",
          "2024-12-03 00:00:00",
          "2024-12-04 00:00:00",
          "2024-12-05 00:00:00",
          "2024-12-06 00:00:00",
          "2024-12-07 00:00:00",
          "2024-12-08 00:00:00",
          "2024-12-09 00:00:00",
          "2024-12-10 00:00:00",
          "2024-12-11 00:00:00",
          "2024-12-12 00:00:00",
          "2024-12-13 00:00:00",
          "2024-12-14 00:00:00",
          "2024-12-15 00:00:00",
          "2024-12-16 00:00:00",
          "2024-12-17 00:00:00",
          "2024-12-18 00:00:00",
          "2024-12-19 00:00:00",
          "2024-12-20 00:00:00",
          "2024-12-21 00:00:00",
          "2024-12-22 00:00:00",
          "2024-12-23 00:00:00",
          "2024-12-24 00:00:00",
          "2024-12-25 00:00:00",
          "2024-12-26 00:00:00",
          "2024-12-27 00:00:00",
          "2024-12-28 00:00:00",
          "2024-12-29 00:00:00",
          "2024-12-30 00:00:00",
          "2024-12-31 00:00:00",
          "2025-01-01 00:00:00",
          "2025-01-02 00:00:00",
          "2025-01-03 00:00:00",
          "2025-01-04 00:00:00",
          "2025-01-05 00:00:00",
          "2025-01-06 00:00:00",
          "2025-01-07 00:00:00",
          "2025-01-08 00:00:00",
          "2025-01-09 00:00:00",
          "2025-01-10 00:00:00",
          "2025-01-11 00:00:00",
          "2025-01-12 00:00:00",
          "2025-01-13 00:00:00",
          "2025-01-14 00:00:00",
          "2025-01-15 00:00:00",
          "2025-01-16 00:00:00",
          "2025-01-17 00:00:00",
          "2025-01-18 00:00:00",
          "2025-01-19 00:00:00",
          "2025-01-20 00:00:00",
          "2025-01-21 00:00:00",
          "2025-01-22 00:00:00",
          "2025-01-23 00:00:00",
          "2025-01-24 00:00:00",
          "2025-01-25 00:00:00",
          "2025-01-26 00:00:00",
          "2025-01-27 00:00:00",
          "2025-01-28 00:00:00",
          "2025-01-29 00:00:00",
          "2025-01-30 00:00:00",
          "2025-01-31 00:00:00",
          "2025-02-01 00:00:00",
          "2025-02-02 00:00:00",
          "2025-02-03 00:00:00",
          "2025-02-04 00:00:00",
          "2025-02-05 00:00:00",
          "2025-02-06 00:00:00",
          "2025-02-07 00:00:00",
          "2025-02-08 00:00:00",
          "2025-02-09 00:00:00",
          "2025-02-10 00:00:00",
          "2025-02-11 00:00:00",
          "2025-02-12 00:00:00",
          "2025-02-13 00:00:00",
          "2025-02-14 00:00:00",
          "2025-02-15 00:00:00",
          "2025-02-16 00:00:00",
          "2025-02-17 00:00:00",
          "2025-02-18 00:00:00",
          "2025-02-19 00:00:00",
          "2025-02-20 00:00:00",
          "2025-02-21 00:00:00",
          "2025-02-22 00:00:00",
          "2025-02-23 00:00:00",
          "2025-02-24 00:00:00",
          "2025-02-25 00:00:00",
          "2025-02-26 00:00:00",
          "2025-02-27 00:00:00",
          "2025-02-28 00:00:00",
          "2025-03-01 00:00:00",
          "2025-03-02 00:00:00",
          "2025-03-03 00:00:00",
          "2025-03-04 00:00:00",
          "2025-03-05 00:00:00",
          "2025-03-06 00:00:00",
          "2025-03-07 00:00:00",
          "2025-03-08 00:00:00",
          "2025-03-09 00:00:00",
          "2025-03-10 00:00:00",
          "2025-03-11 00:00:00",
          "2025-03-12 00:00:00",
          "2025-03-13 00:00:00",
          "2025-03-14 00:00:00",
          "2025-03-15 00:00:00",
          "2025-03-16 00:00:00",
          "2025-03-17 00:00:00",
          "2025-03-18 00:00:00",
          "2025-03-19 00:00:00",
          "2025-03-20 00:00:00",
          "2025-03-21 00:00:00",
          "2025-03-22 00:00:00",
          "2025-03-23 00:00:00",
          "2025-03-24 00:00:00",
          "2025-03-25 00:00:00",
          "2025-03-26 00:00:00",
          "2025-03-27 00:00:00",
          "2025-03-28 00:00:00",
          "2025-03-29 00:00:00",
          "2025-03-30 00:00:00",
          "2025-03-31 00:00:00",
          "2025-04-01 00:00:00",
          "2025-04-02 00:00:00",
          "2025-04-03 00:00:00",
          "2025-04-04 00:00:00",
          "2025-04-05 00:00:00",
          "2025-04-06 00:00:00",
          "2025-04-07 00:00:00",
          "2025-04-08 00:00:00",
          "2025-04-09 00:00:00",
          "2025-04-10 00:00:00",
          "2025-04-11 00:00:00",
          "2025-04-12 00:00:00",
          "2025-04-13 00:00:00",
          "2025-04-14 00:00:00",
          "2025-04-15 00:00:00",
          "2025-04-16 00:00:00",
          "2025-04-17 00:00:00",
          "2025-04-18 00:00:00",
          "2025-04-19 00:00:00",
          "2025-04-20 00:00:00",
          "2025-04-21 00:00:00",
          "2025-04-22 00:00:00",
          "2025-04-23 00:00:00",
          "2025-04-24 00:00:00",
          "2025-04-25 00:00:00",
          "2025-04-26 00:00:00",
          "2025-04-27 00:00:00",
          "2025-04-28 00:00:00",
          "2025-04-29 00:00:00",
          "2025-04-30 00:00:00",
          "2025-05-01 00:00:00",
          "2025-05-02 00:00:00",
          "2025-05-03 00:00:00",
          "2025-05-04 00:00:00",
          "2025-05-05 00:00:00",
          "2025-05-06 00:00:00",
          "2025-05-07 00:00:00",
          "2025-05-08 00:00:00",
          "2025-05-09 00:00:00",
          "2025-05-10 00:00:00",
          "2025-05-11 00:00:00",
          "2025-05-12 00:00:00",
          "2025-05-13 00:00:00",
          "2025-05-14 00:00:00",
          "2025-05-15 00:00:00",
          "2025-05-16 00:00:00",
          "2025-05-17 00:00:00",
          "2025-05-18 00:00:00",
          "2025-05-19 00:00:00",
          "2025-05-20 00:00:00",
          "2025-05-21 00:00:00",
          "2025-05-22 00:00:00",
          "2025-05-23 00:00:00",
          "2025-05-24 00:00:00",
          "2025-05-25 00:00:00",
          "2025-05-26 00:00:00",
          "2025-05-27 00:00:00"
         ],
         "xaxis": "x",
         "y": {
          "bdata": "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",
          "dtype": "f8"
         },
         "yaxis": "y"
        },
        {
         "hovertemplate": "<b>%{y:.2%}</b><extra></extra>",
         "legendgroup": "Tag_Layer1_Layer2",
         "line": {
          "color": "#EF553B",
          "dash": "solid"
         },
         "marker": {
          "symbol": "circle"
         },
         "mode": "lines+markers",
         "name": "Tag_Layer1_Layer2",
         "showlegend": true,
         "type": "scattergl",
         "x": [
          "2024-05-28 00:00:00",
          "2024-05-29 00:00:00",
          "2024-05-30 00:00:00",
          "2024-05-31 00:00:00",
          "2024-06-01 00:00:00",
          "2024-06-02 00:00:00",
          "2024-06-03 00:00:00",
          "2024-06-04 00:00:00",
          "2024-06-05 00:00:00",
          "2024-06-06 00:00:00",
          "2024-06-07 00:00:00",
          "2024-06-08 00:00:00",
          "2024-06-09 00:00:00",
          "2024-06-10 00:00:00",
          "2024-06-11 00:00:00",
          "2024-06-12 00:00:00",
          "2024-06-13 00:00:00",
          "2024-06-14 00:00:00",
          "2024-06-15 00:00:00",
          "2024-06-16 00:00:00",
          "2024-06-17 00:00:00",
          "2024-06-18 00:00:00",
          "2024-06-19 00:00:00",
          "2024-06-20 00:00:00",
          "2024-06-21 00:00:00",
          "2024-06-22 00:00:00",
          "2024-06-23 00:00:00",
          "2024-06-24 00:00:00",
          "2024-06-25 00:00:00",
          "2024-06-26 00:00:00",
          "2024-06-27 00:00:00",
          "2024-06-28 00:00:00",
          "2024-06-29 00:00:00",
          "2024-06-30 00:00:00",
          "2024-07-01 00:00:00",
          "2024-07-02 00:00:00",
          "2024-07-03 00:00:00",
          "2024-07-04 00:00:00",
          "2024-07-05 00:00:00",
          "2024-07-06 00:00:00",
          "2024-07-07 00:00:00",
          "2024-07-08 00:00:00",
          "2024-07-09 00:00:00",
          "2024-07-10 00:00:00",
          "2024-07-11 00:00:00",
          "2024-07-12 00:00:00",
          "2024-07-13 00:00:00",
          "2024-07-14 00:00:00",
          "2024-07-15 00:00:00",
          "2024-07-16 00:00:00",
          "2024-07-17 00:00:00",
          "2024-07-18 00:00:00",
          "2024-07-19 00:00:00",
          "2024-07-20 00:00:00",
          "2024-07-21 00:00:00",
          "2024-07-22 00:00:00",
          "2024-07-23 00:00:00",
          "2024-07-24 00:00:00",
          "2024-07-25 00:00:00",
          "2024-07-26 00:00:00",
          "2024-07-27 00:00:00",
          "2024-07-28 00:00:00",
          "2024-07-29 00:00:00",
          "2024-07-30 00:00:00",
          "2024-07-31 00:00:00",
          "2024-08-01 00:00:00",
          "2024-08-02 00:00:00",
          "2024-08-03 00:00:00",
          "2024-08-04 00:00:00",
          "2024-08-05 00:00:00",
          "2024-08-06 00:00:00",
          "2024-08-07 00:00:00",
          "2024-08-08 00:00:00",
          "2024-08-09 00:00:00",
          "2024-08-10 00:00:00",
          "2024-08-11 00:00:00",
          "2024-08-12 00:00:00",
          "2024-08-13 00:00:00",
          "2024-08-14 00:00:00",
          "2024-08-15 00:00:00",
          "2024-08-16 00:00:00",
          "2024-08-17 00:00:00",
          "2024-08-18 00:00:00",
          "2024-08-19 00:00:00",
          "2024-08-20 00:00:00",
          "2024-08-21 00:00:00",
          "2024-08-22 00:00:00",
          "2024-08-23 00:00:00",
          "2024-08-24 00:00:00",
          "2024-08-25 00:00:00",
          "2024-08-26 00:00:00",
          "2024-08-27 00:00:00",
          "2024-08-28 00:00:00",
          "2024-08-29 00:00:00",
          "2024-08-30 00:00:00",
          "2024-08-31 00:00:00",
          "2024-09-01 00:00:00",
          "2024-09-02 00:00:00",
          "2024-09-03 00:00:00",
          "2024-09-04 00:00:00",
          "2024-09-05 00:00:00",
          "2024-09-06 00:00:00",
          "2024-09-07 00:00:00",
          "2024-09-08 00:00:00",
          "2024-09-09 00:00:00",
          "2024-09-10 00:00:00",
          "2024-09-11 00:00:00",
          "2024-09-12 00:00:00",
          "2024-09-13 00:00:00",
          "2024-09-14 00:00:00",
          "2024-09-15 00:00:00",
          "2024-09-16 00:00:00",
          "2024-09-17 00:00:00",
          "2024-09-18 00:00:00",
          "2024-09-19 00:00:00",
          "2024-09-20 00:00:00",
          "2024-09-21 00:00:00",
          "2024-09-22 00:00:00",
          "2024-09-23 00:00:00",
          "2024-09-24 00:00:00",
          "2024-09-25 00:00:00",
          "2024-09-26 00:00:00",
          "2024-09-27 00:00:00",
          "2024-09-28 00:00:00",
          "2024-09-29 00:00:00",
          "2024-09-30 00:00:00",
          "2024-10-01 00:00:00",
          "2024-10-02 00:00:00",
          "2024-10-03 00:00:00",
          "2024-10-04 00:00:00",
          "2024-10-05 00:00:00",
          "2024-10-06 00:00:00",
          "2024-10-07 00:00:00",
          "2024-10-08 00:00:00",
          "2024-10-09 00:00:00",
          "2024-10-10 00:00:00",
          "2024-10-11 00:00:00",
          "2024-10-12 00:00:00",
          "2024-10-13 00:00:00",
          "2024-10-14 00:00:00",
          "2024-10-15 00:00:00",
          "2024-10-16 00:00:00",
          "2024-10-17 00:00:00",
          "2024-10-18 00:00:00",
          "2024-10-19 00:00:00",
          "2024-10-20 00:00:00",
          "2024-10-21 00:00:00",
          "2024-10-22 00:00:00",
          "2024-10-23 00:00:00",
          "2024-10-24 00:00:00",
          "2024-10-25 00:00:00",
          "2024-10-26 00:00:00",
          "2024-10-27 00:00:00",
          "2024-10-28 00:00:00",
          "2024-10-29 00:00:00",
          "2024-10-30 00:00:00",
          "2024-10-31 00:00:00",
          "2024-11-01 00:00:00",
          "2024-11-02 00:00:00",
          "2024-11-03 00:00:00",
          "2024-11-04 00:00:00",
          "2024-11-05 00:00:00",
          "2024-11-06 00:00:00",
          "2024-11-07 00:00:00",
          "2024-11-08 00:00:00",
          "2024-11-09 00:00:00",
          "2024-11-10 00:00:00",
          "2024-11-11 00:00:00",
          "2024-11-12 00:00:00",
          "2024-11-13 00:00:00",
          "2024-11-14 00:00:00",
          "2024-11-15 00:00:00",
          "2024-11-16 00:00:00",
          "2024-11-17 00:00:00",
          "2024-11-18 00:00:00",
          "2024-11-19 00:00:00",
          "2024-11-20 00:00:00",
          "2024-11-21 00:00:00",
          "2024-11-22 00:00:00",
          "2024-11-23 00:00:00",
          "2024-11-24 00:00:00",
          "2024-11-25 00:00:00",
          "2024-11-26 00:00:00",
          "2024-11-27 00:00:00",
          "2024-11-28 00:00:00",
          "2024-11-29 00:00:00",
          "2024-11-30 00:00:00",
          "2024-12-01 00:00:00",
          "2024-12-02 00:00:00",
          "2024-12-03 00:00:00",
          "2024-12-04 00:00:00",
          "2024-12-05 00:00:00",
          "2024-12-06 00:00:00",
          "2024-12-07 00:00:00",
          "2024-12-08 00:00:00",
          "2024-12-09 00:00:00",
          "2024-12-10 00:00:00",
          "2024-12-11 00:00:00",
          "2024-12-12 00:00:00",
          "2024-12-13 00:00:00",
          "2024-12-14 00:00:00",
          "2024-12-15 00:00:00",
          "2024-12-16 00:00:00",
          "2024-12-17 00:00:00",
          "2024-12-18 00:00:00",
          "2024-12-19 00:00:00",
          "2024-12-20 00:00:00",
          "2024-12-21 00:00:00",
          "2024-12-22 00:00:00",
          "2024-12-23 00:00:00",
          "2024-12-24 00:00:00",
          "2024-12-25 00:00:00",
          "2024-12-26 00:00:00",
          "2024-12-27 00:00:00",
          "2024-12-28 00:00:00",
          "2024-12-29 00:00:00",
          "2024-12-30 00:00:00",
          "2024-12-31 00:00:00",
          "2025-01-01 00:00:00",
          "2025-01-02 00:00:00",
          "2025-01-03 00:00:00",
          "2025-01-04 00:00:00",
          "2025-01-05 00:00:00",
          "2025-01-06 00:00:00",
          "2025-01-07 00:00:00",
          "2025-01-08 00:00:00",
          "2025-01-09 00:00:00",
          "2025-01-10 00:00:00",
          "2025-01-11 00:00:00",
          "2025-01-12 00:00:00",
          "2025-01-13 00:00:00",
          "2025-01-14 00:00:00",
          "2025-01-15 00:00:00",
          "2025-01-16 00:00:00",
          "2025-01-17 00:00:00",
          "2025-01-18 00:00:00",
          "2025-01-19 00:00:00",
          "2025-01-20 00:00:00",
          "2025-01-21 00:00:00",
          "2025-01-22 00:00:00",
          "2025-01-23 00:00:00",
          "2025-01-24 00:00:00",
          "2025-01-25 00:00:00",
          "2025-01-26 00:00:00",
          "2025-01-27 00:00:00",
          "2025-01-28 00:00:00",
          "2025-01-29 00:00:00",
          "2025-01-30 00:00:00",
          "2025-01-31 00:00:00",
          "2025-02-01 00:00:00",
          "2025-02-02 00:00:00",
          "2025-02-03 00:00:00",
          "2025-02-04 00:00:00",
          "2025-02-05 00:00:00",
          "2025-02-06 00:00:00",
          "2025-02-07 00:00:00",
          "2025-02-08 00:00:00",
          "2025-02-09 00:00:00",
          "2025-02-10 00:00:00",
          "2025-02-11 00:00:00",
          "2025-02-12 00:00:00",
          "2025-02-13 00:00:00",
          "2025-02-14 00:00:00",
          "2025-02-15 00:00:00",
          "2025-02-16 00:00:00",
          "2025-02-17 00:00:00",
          "2025-02-18 00:00:00",
          "2025-02-19 00:00:00",
          "2025-02-20 00:00:00",
          "2025-02-21 00:00:00",
          "2025-02-22 00:00:00",
          "2025-02-23 00:00:00",
          "2025-02-24 00:00:00",
          "2025-02-25 00:00:00",
          "2025-02-26 00:00:00",
          "2025-02-27 00:00:00",
          "2025-02-28 00:00:00",
          "2025-03-01 00:00:00",
          "2025-03-02 00:00:00",
          "2025-03-03 00:00:00",
          "2025-03-04 00:00:00",
          "2025-03-05 00:00:00",
          "2025-03-06 00:00:00",
          "2025-03-07 00:00:00",
          "2025-03-08 00:00:00",
          "2025-03-09 00:00:00",
          "2025-03-10 00:00:00",
          "2025-03-11 00:00:00",
          "2025-03-12 00:00:00",
          "2025-03-13 00:00:00",
          "2025-03-14 00:00:00",
          "2025-03-15 00:00:00",
          "2025-03-16 00:00:00",
          "2025-03-17 00:00:00",
          "2025-03-18 00:00:00",
          "2025-03-19 00:00:00",
          "2025-03-20 00:00:00",
          "2025-03-21 00:00:00",
          "2025-03-22 00:00:00",
          "2025-03-23 00:00:00",
          "2025-03-24 00:00:00",
          "2025-03-25 00:00:00",
          "2025-03-26 00:00:00",
          "2025-03-27 00:00:00",
          "2025-03-28 00:00:00",
          "2025-03-29 00:00:00",
          "2025-03-30 00:00:00",
          "2025-03-31 00:00:00",
          "2025-04-01 00:00:00",
          "2025-04-02 00:00:00",
          "2025-04-03 00:00:00",
          "2025-04-04 00:00:00",
          "2025-04-05 00:00:00",
          "2025-04-06 00:00:00",
          "2025-04-07 00:00:00",
          "2025-04-08 00:00:00",
          "2025-04-09 00:00:00",
          "2025-04-10 00:00:00",
          "2025-04-11 00:00:00",
          "2025-04-12 00:00:00",
          "2025-04-13 00:00:00",
          "2025-04-14 00:00:00",
          "2025-04-15 00:00:00",
          "2025-04-16 00:00:00",
          "2025-04-17 00:00:00",
          "2025-04-18 00:00:00",
          "2025-04-19 00:00:00",
          "2025-04-20 00:00:00",
          "2025-04-21 00:00:00",
          "2025-04-22 00:00:00",
          "2025-04-23 00:00:00",
          "2025-04-24 00:00:00",
          "2025-04-25 00:00:00",
          "2025-04-26 00:00:00",
          "2025-04-27 00:00:00",
          "2025-04-28 00:00:00",
          "2025-04-29 00:00:00",
          "2025-04-30 00:00:00",
          "2025-05-01 00:00:00",
          "2025-05-02 00:00:00",
          "2025-05-03 00:00:00",
          "2025-05-04 00:00:00",
          "2025-05-05 00:00:00",
          "2025-05-06 00:00:00",
          "2025-05-07 00:00:00",
          "2025-05-08 00:00:00",
          "2025-05-09 00:00:00",
          "2025-05-10 00:00:00",
          "2025-05-11 00:00:00",
          "2025-05-12 00:00:00",
          "2025-05-13 00:00:00",
          "2025-05-14 00:00:00",
          "2025-05-15 00:00:00",
          "2025-05-16 00:00:00",
          "2025-05-17 00:00:00",
          "2025-05-18 00:00:00",
          "2025-05-19 00:00:00",
          "2025-05-20 00:00:00",
          "2025-05-21 00:00:00",
          "2025-05-22 00:00:00",
          "2025-05-23 00:00:00",
          "2025-05-24 00:00:00",
          "2025-05-25 00:00:00",
          "2025-05-26 00:00:00",
          "2025-05-27 00:00:00"
         ],
         "xaxis": "x",
         "y": {
          "bdata": "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",
          "dtype": "f8"
         },
         "yaxis": "y"
        },
        {
         "hovertemplate": "<b>%{y:.2%}</b><extra></extra>",
         "legendgroup": "Tag_Seed",
         "line": {
          "color": "#00cc96",
          "dash": "solid"
         },
         "marker": {
          "symbol": "circle"
         },
         "mode": "lines+markers",
         "name": "Tag_Seed",
         "showlegend": true,
         "type": "scattergl",
         "x": [
          "2024-05-28 00:00:00",
          "2024-05-29 00:00:00",
          "2024-05-30 00:00:00",
          "2024-05-31 00:00:00",
          "2024-06-01 00:00:00",
          "2024-06-02 00:00:00",
          "2024-06-03 00:00:00",
          "2024-06-04 00:00:00",
          "2024-06-05 00:00:00",
          "2024-06-06 00:00:00",
          "2024-06-07 00:00:00",
          "2024-06-08 00:00:00",
          "2024-06-09 00:00:00",
          "2024-06-10 00:00:00",
          "2024-06-11 00:00:00",
          "2024-06-12 00:00:00",
          "2024-06-13 00:00:00",
          "2024-06-14 00:00:00",
          "2024-06-15 00:00:00",
          "2024-06-16 00:00:00",
          "2024-06-17 00:00:00",
          "2024-06-18 00:00:00",
          "2024-06-19 00:00:00",
          "2024-06-20 00:00:00",
          "2024-06-21 00:00:00",
          "2024-06-22 00:00:00",
          "2024-06-23 00:00:00",
          "2024-06-24 00:00:00",
          "2024-06-25 00:00:00",
          "2024-06-26 00:00:00",
          "2024-06-27 00:00:00",
          "2024-06-28 00:00:00",
          "2024-06-29 00:00:00",
          "2024-06-30 00:00:00",
          "2024-07-01 00:00:00",
          "2024-07-02 00:00:00",
          "2024-07-03 00:00:00",
          "2024-07-04 00:00:00",
          "2024-07-05 00:00:00",
          "2024-07-06 00:00:00",
          "2024-07-07 00:00:00",
          "2024-07-08 00:00:00",
          "2024-07-09 00:00:00",
          "2024-07-10 00:00:00",
          "2024-07-11 00:00:00",
          "2024-07-12 00:00:00",
          "2024-07-13 00:00:00",
          "2024-07-14 00:00:00",
          "2024-07-15 00:00:00",
          "2024-07-16 00:00:00",
          "2024-07-17 00:00:00",
          "2024-07-18 00:00:00",
          "2024-07-19 00:00:00",
          "2024-07-20 00:00:00",
          "2024-07-21 00:00:00",
          "2024-07-22 00:00:00",
          "2024-07-23 00:00:00",
          "2024-07-24 00:00:00",
          "2024-07-25 00:00:00",
          "2024-07-26 00:00:00",
          "2024-07-27 00:00:00",
          "2024-07-28 00:00:00",
          "2024-07-29 00:00:00",
          "2024-07-30 00:00:00",
          "2024-07-31 00:00:00",
          "2024-08-01 00:00:00",
          "2024-08-02 00:00:00",
          "2024-08-03 00:00:00",
          "2024-08-04 00:00:00",
          "2024-08-05 00:00:00",
          "2024-08-06 00:00:00",
          "2024-08-07 00:00:00",
          "2024-08-08 00:00:00",
          "2024-08-09 00:00:00",
          "2024-08-10 00:00:00",
          "2024-08-11 00:00:00",
          "2024-08-12 00:00:00",
          "2024-08-13 00:00:00",
          "2024-08-14 00:00:00",
          "2024-08-15 00:00:00",
          "2024-08-16 00:00:00",
          "2024-08-17 00:00:00",
          "2024-08-18 00:00:00",
          "2024-08-19 00:00:00",
          "2024-08-20 00:00:00",
          "2024-08-21 00:00:00",
          "2024-08-22 00:00:00",
          "2024-08-23 00:00:00",
          "2024-08-24 00:00:00",
          "2024-08-25 00:00:00",
          "2024-08-26 00:00:00",
          "2024-08-27 00:00:00",
          "2024-08-28 00:00:00",
          "2024-08-29 00:00:00",
          "2024-08-30 00:00:00",
          "2024-08-31 00:00:00",
          "2024-09-01 00:00:00",
          "2024-09-02 00:00:00",
          "2024-09-03 00:00:00",
          "2024-09-04 00:00:00",
          "2024-09-05 00:00:00",
          "2024-09-06 00:00:00",
          "2024-09-07 00:00:00",
          "2024-09-08 00:00:00",
          "2024-09-09 00:00:00",
          "2024-09-10 00:00:00",
          "2024-09-11 00:00:00",
          "2024-09-12 00:00:00",
          "2024-09-13 00:00:00",
          "2024-09-14 00:00:00",
          "2024-09-15 00:00:00",
          "2024-09-16 00:00:00",
          "2024-09-17 00:00:00",
          "2024-09-18 00:00:00",
          "2024-09-19 00:00:00",
          "2024-09-20 00:00:00",
          "2024-09-21 00:00:00",
          "2024-09-22 00:00:00",
          "2024-09-23 00:00:00",
          "2024-09-24 00:00:00",
          "2024-09-25 00:00:00",
          "2024-09-26 00:00:00",
          "2024-09-27 00:00:00",
          "2024-09-28 00:00:00",
          "2024-09-29 00:00:00",
          "2024-09-30 00:00:00",
          "2024-10-01 00:00:00",
          "2024-10-02 00:00:00",
          "2024-10-03 00:00:00",
          "2024-10-04 00:00:00",
          "2024-10-05 00:00:00",
          "2024-10-06 00:00:00",
          "2024-10-07 00:00:00",
          "2024-10-08 00:00:00",
          "2024-10-09 00:00:00",
          "2024-10-10 00:00:00",
          "2024-10-11 00:00:00",
          "2024-10-12 00:00:00",
          "2024-10-13 00:00:00",
          "2024-10-14 00:00:00",
          "2024-10-15 00:00:00",
          "2024-10-16 00:00:00",
          "2024-10-17 00:00:00",
          "2024-10-18 00:00:00",
          "2024-10-19 00:00:00",
          "2024-10-20 00:00:00",
          "2024-10-21 00:00:00",
          "2024-10-22 00:00:00",
          "2024-10-23 00:00:00",
          "2024-10-24 00:00:00",
          "2024-10-25 00:00:00",
          "2024-10-26 00:00:00",
          "2024-10-27 00:00:00",
          "2024-10-28 00:00:00",
          "2024-10-29 00:00:00",
          "2024-10-30 00:00:00",
          "2024-10-31 00:00:00",
          "2024-11-01 00:00:00",
          "2024-11-02 00:00:00",
          "2024-11-03 00:00:00",
          "2024-11-04 00:00:00",
          "2024-11-05 00:00:00",
          "2024-11-06 00:00:00",
          "2024-11-07 00:00:00",
          "2024-11-08 00:00:00",
          "2024-11-09 00:00:00",
          "2024-11-10 00:00:00",
          "2024-11-11 00:00:00",
          "2024-11-12 00:00:00",
          "2024-11-13 00:00:00",
          "2024-11-14 00:00:00",
          "2024-11-15 00:00:00",
          "2024-11-16 00:00:00",
          "2024-11-17 00:00:00",
          "2024-11-18 00:00:00",
          "2024-11-19 00:00:00",
          "2024-11-20 00:00:00",
          "2024-11-21 00:00:00",
          "2024-11-22 00:00:00",
          "2024-11-23 00:00:00",
          "2024-11-24 00:00:00",
          "2024-11-25 00:00:00",
          "2024-11-26 00:00:00",
          "2024-11-27 00:00:00",
          "2024-11-28 00:00:00",
          "2024-11-29 00:00:00",
          "2024-11-30 00:00:00",
          "2024-12-01 00:00:00",
          "2024-12-02 00:00:00",
          "2024-12-03 00:00:00",
          "2024-12-04 00:00:00",
          "2024-12-05 00:00:00",
          "2024-12-06 00:00:00",
          "2024-12-07 00:00:00",
          "2024-12-08 00:00:00",
          "2024-12-09 00:00:00",
          "2024-12-10 00:00:00",
          "2024-12-11 00:00:00",
          "2024-12-12 00:00:00",
          "2024-12-13 00:00:00",
          "2024-12-14 00:00:00",
          "2024-12-15 00:00:00",
          "2024-12-16 00:00:00",
          "2024-12-17 00:00:00",
          "2024-12-18 00:00:00",
          "2024-12-19 00:00:00",
          "2024-12-20 00:00:00",
          "2024-12-21 00:00:00",
          "2024-12-22 00:00:00",
          "2024-12-23 00:00:00",
          "2024-12-24 00:00:00",
          "2024-12-25 00:00:00",
          "2024-12-26 00:00:00",
          "2024-12-27 00:00:00",
          "2024-12-28 00:00:00",
          "2024-12-29 00:00:00",
          "2024-12-30 00:00:00",
          "2024-12-31 00:00:00",
          "2025-01-01 00:00:00",
          "2025-01-02 00:00:00",
          "2025-01-03 00:00:00",
          "2025-01-04 00:00:00",
          "2025-01-05 00:00:00",
          "2025-01-06 00:00:00",
          "2025-01-07 00:00:00",
          "2025-01-08 00:00:00",
          "2025-01-09 00:00:00",
          "2025-01-10 00:00:00",
          "2025-01-11 00:00:00",
          "2025-01-12 00:00:00",
          "2025-01-13 00:00:00",
          "2025-01-14 00:00:00",
          "2025-01-15 00:00:00",
          "2025-01-16 00:00:00",
          "2025-01-17 00:00:00",
          "2025-01-18 00:00:00",
          "2025-01-19 00:00:00",
          "2025-01-20 00:00:00",
          "2025-01-21 00:00:00",
          "2025-01-22 00:00:00",
          "2025-01-23 00:00:00",
          "2025-01-24 00:00:00",
          "2025-01-25 00:00:00",
          "2025-01-26 00:00:00",
          "2025-01-27 00:00:00",
          "2025-01-28 00:00:00",
          "2025-01-29 00:00:00",
          "2025-01-30 00:00:00",
          "2025-01-31 00:00:00",
          "2025-02-01 00:00:00",
          "2025-02-02 00:00:00",
          "2025-02-03 00:00:00",
          "2025-02-04 00:00:00",
          "2025-02-05 00:00:00",
          "2025-02-06 00:00:00",
          "2025-02-07 00:00:00",
          "2025-02-08 00:00:00",
          "2025-02-09 00:00:00",
          "2025-02-10 00:00:00",
          "2025-02-11 00:00:00",
          "2025-02-12 00:00:00",
          "2025-02-13 00:00:00",
          "2025-02-14 00:00:00",
          "2025-02-15 00:00:00",
          "2025-02-16 00:00:00",
          "2025-02-17 00:00:00",
          "2025-02-18 00:00:00",
          "2025-02-19 00:00:00",
          "2025-02-20 00:00:00",
          "2025-02-21 00:00:00",
          "2025-02-22 00:00:00",
          "2025-02-23 00:00:00",
          "2025-02-24 00:00:00",
          "2025-02-25 00:00:00",
          "2025-02-26 00:00:00",
          "2025-02-27 00:00:00",
          "2025-02-28 00:00:00",
          "2025-03-01 00:00:00",
          "2025-03-02 00:00:00",
          "2025-03-03 00:00:00",
          "2025-03-04 00:00:00",
          "2025-03-05 00:00:00",
          "2025-03-06 00:00:00",
          "2025-03-07 00:00:00",
          "2025-03-08 00:00:00",
          "2025-03-09 00:00:00",
          "2025-03-10 00:00:00",
          "2025-03-11 00:00:00",
          "2025-03-12 00:00:00",
          "2025-03-13 00:00:00",
          "2025-03-14 00:00:00",
          "2025-03-15 00:00:00",
          "2025-03-16 00:00:00",
          "2025-03-17 00:00:00",
          "2025-03-18 00:00:00",
          "2025-03-19 00:00:00",
          "2025-03-20 00:00:00",
          "2025-03-21 00:00:00",
          "2025-03-22 00:00:00",
          "2025-03-23 00:00:00",
          "2025-03-24 00:00:00",
          "2025-03-25 00:00:00",
          "2025-03-26 00:00:00",
          "2025-03-27 00:00:00",
          "2025-03-28 00:00:00",
          "2025-03-29 00:00:00",
          "2025-03-30 00:00:00",
          "2025-03-31 00:00:00",
          "2025-04-01 00:00:00",
          "2025-04-02 00:00:00",
          "2025-04-03 00:00:00",
          "2025-04-04 00:00:00",
          "2025-04-05 00:00:00",
          "2025-04-06 00:00:00",
          "2025-04-07 00:00:00",
          "2025-04-08 00:00:00",
          "2025-04-09 00:00:00",
          "2025-04-10 00:00:00",
          "2025-04-11 00:00:00",
          "2025-04-12 00:00:00",
          "2025-04-13 00:00:00",
          "2025-04-14 00:00:00",
          "2025-04-15 00:00:00",
          "2025-04-16 00:00:00",
          "2025-04-17 00:00:00",
          "2025-04-18 00:00:00",
          "2025-04-19 00:00:00",
          "2025-04-20 00:00:00",
          "2025-04-21 00:00:00",
          "2025-04-22 00:00:00",
          "2025-04-23 00:00:00",
          "2025-04-24 00:00:00",
          "2025-04-25 00:00:00",
          "2025-04-26 00:00:00",
          "2025-04-27 00:00:00",
          "2025-04-28 00:00:00",
          "2025-04-29 00:00:00",
          "2025-04-30 00:00:00",
          "2025-05-01 00:00:00",
          "2025-05-02 00:00:00",
          "2025-05-03 00:00:00",
          "2025-05-04 00:00:00",
          "2025-05-05 00:00:00",
          "2025-05-06 00:00:00",
          "2025-05-07 00:00:00",
          "2025-05-08 00:00:00",
          "2025-05-09 00:00:00",
          "2025-05-10 00:00:00",
          "2025-05-11 00:00:00",
          "2025-05-12 00:00:00",
          "2025-05-13 00:00:00",
          "2025-05-14 00:00:00",
          "2025-05-15 00:00:00",
          "2025-05-16 00:00:00",
          "2025-05-17 00:00:00",
          "2025-05-18 00:00:00",
          "2025-05-19 00:00:00",
          "2025-05-20 00:00:00",
          "2025-05-21 00:00:00",
          "2025-05-22 00:00:00",
          "2025-05-23 00:00:00",
          "2025-05-24 00:00:00",
          "2025-05-25 00:00:00",
          "2025-05-26 00:00:00",
          "2025-05-27 00:00:00"
         ],
         "xaxis": "x",
         "y": {
          "bdata": "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",
          "dtype": "f8"
         },
         "yaxis": "y"
        },
        {
         "hovertemplate": "<b>%{y:.2%}</b><extra></extra>",
         "legendgroup": "Tag_defi",
         "line": {
          "color": "#ab63fa",
          "dash": "solid"
         },
         "marker": {
          "symbol": "circle"
         },
         "mode": "lines+markers",
         "name": "Tag_defi",
         "showlegend": true,
         "type": "scattergl",
         "x": [
          "2024-05-28 00:00:00",
          "2024-05-29 00:00:00",
          "2024-05-30 00:00:00",
          "2024-05-31 00:00:00",
          "2024-06-01 00:00:00",
          "2024-06-02 00:00:00",
          "2024-06-03 00:00:00",
          "2024-06-04 00:00:00",
          "2024-06-05 00:00:00",
          "2024-06-06 00:00:00",
          "2024-06-07 00:00:00",
          "2024-06-08 00:00:00",
          "2024-06-09 00:00:00",
          "2024-06-10 00:00:00",
          "2024-06-11 00:00:00",
          "2024-06-12 00:00:00",
          "2024-06-13 00:00:00",
          "2024-06-14 00:00:00",
          "2024-06-15 00:00:00",
          "2024-06-16 00:00:00",
          "2024-06-17 00:00:00",
          "2024-06-18 00:00:00",
          "2024-06-19 00:00:00",
          "2024-06-20 00:00:00",
          "2024-06-21 00:00:00",
          "2024-06-22 00:00:00",
          "2024-06-23 00:00:00",
          "2024-06-24 00:00:00",
          "2024-06-25 00:00:00",
          "2024-06-26 00:00:00",
          "2024-06-27 00:00:00",
          "2024-06-28 00:00:00",
          "2024-06-29 00:00:00",
          "2024-06-30 00:00:00",
          "2024-07-01 00:00:00",
          "2024-07-02 00:00:00",
          "2024-07-03 00:00:00",
          "2024-07-04 00:00:00",
          "2024-07-05 00:00:00",
          "2024-07-06 00:00:00",
          "2024-07-07 00:00:00",
          "2024-07-08 00:00:00",
          "2024-07-09 00:00:00",
          "2024-07-10 00:00:00",
          "2024-07-11 00:00:00",
          "2024-07-12 00:00:00",
          "2024-07-13 00:00:00",
          "2024-07-14 00:00:00",
          "2024-07-15 00:00:00",
          "2024-07-16 00:00:00",
          "2024-07-17 00:00:00",
          "2024-07-18 00:00:00",
          "2024-07-19 00:00:00",
          "2024-07-20 00:00:00",
          "2024-07-21 00:00:00",
          "2024-07-22 00:00:00",
          "2024-07-23 00:00:00",
          "2024-07-24 00:00:00",
          "2024-07-25 00:00:00",
          "2024-07-26 00:00:00",
          "2024-07-27 00:00:00",
          "2024-07-28 00:00:00",
          "2024-07-29 00:00:00",
          "2024-07-30 00:00:00",
          "2024-07-31 00:00:00",
          "2024-08-01 00:00:00",
          "2024-08-02 00:00:00",
          "2024-08-03 00:00:00",
          "2024-08-04 00:00:00",
          "2024-08-05 00:00:00",
          "2024-08-06 00:00:00",
          "2024-08-07 00:00:00",
          "2024-08-08 00:00:00",
          "2024-08-09 00:00:00",
          "2024-08-10 00:00:00",
          "2024-08-11 00:00:00",
          "2024-08-12 00:00:00",
          "2024-08-13 00:00:00",
          "2024-08-14 00:00:00",
          "2024-08-15 00:00:00",
          "2024-08-16 00:00:00",
          "2024-08-17 00:00:00",
          "2024-08-18 00:00:00",
          "2024-08-19 00:00:00",
          "2024-08-20 00:00:00",
          "2024-08-21 00:00:00",
          "2024-08-22 00:00:00",
          "2024-08-23 00:00:00",
          "2024-08-24 00:00:00",
          "2024-08-25 00:00:00",
          "2024-08-26 00:00:00",
          "2024-08-27 00:00:00",
          "2024-08-28 00:00:00",
          "2024-08-29 00:00:00",
          "2024-08-30 00:00:00",
          "2024-08-31 00:00:00",
          "2024-09-01 00:00:00",
          "2024-09-02 00:00:00",
          "2024-09-03 00:00:00",
          "2024-09-04 00:00:00",
          "2024-09-05 00:00:00",
          "2024-09-06 00:00:00",
          "2024-09-07 00:00:00",
          "2024-09-08 00:00:00",
          "2024-09-09 00:00:00",
          "2024-09-10 00:00:00",
          "2024-09-11 00:00:00",
          "2024-09-12 00:00:00",
          "2024-09-13 00:00:00",
          "2024-09-14 00:00:00",
          "2024-09-15 00:00:00",
          "2024-09-16 00:00:00",
          "2024-09-17 00:00:00",
          "2024-09-18 00:00:00",
          "2024-09-19 00:00:00",
          "2024-09-20 00:00:00",
          "2024-09-21 00:00:00",
          "2024-09-22 00:00:00",
          "2024-09-23 00:00:00",
          "2024-09-24 00:00:00",
          "2024-09-25 00:00:00",
          "2024-09-26 00:00:00",
          "2024-09-27 00:00:00",
          "2024-09-28 00:00:00",
          "2024-09-29 00:00:00",
          "2024-09-30 00:00:00",
          "2024-10-01 00:00:00",
          "2024-10-02 00:00:00",
          "2024-10-03 00:00:00",
          "2024-10-04 00:00:00",
          "2024-10-05 00:00:00",
          "2024-10-06 00:00:00",
          "2024-10-07 00:00:00",
          "2024-10-08 00:00:00",
          "2024-10-09 00:00:00",
          "2024-10-10 00:00:00",
          "2024-10-11 00:00:00",
          "2024-10-12 00:00:00",
          "2024-10-13 00:00:00",
          "2024-10-14 00:00:00",
          "2024-10-15 00:00:00",
          "2024-10-16 00:00:00",
          "2024-10-17 00:00:00",
          "2024-10-18 00:00:00",
          "2024-10-19 00:00:00",
          "2024-10-20 00:00:00",
          "2024-10-21 00:00:00",
          "2024-10-22 00:00:00",
          "2024-10-23 00:00:00",
          "2024-10-24 00:00:00",
          "2024-10-25 00:00:00",
          "2024-10-26 00:00:00",
          "2024-10-27 00:00:00",
          "2024-10-28 00:00:00",
          "2024-10-29 00:00:00",
          "2024-10-30 00:00:00",
          "2024-10-31 00:00:00",
          "2024-11-01 00:00:00",
          "2024-11-02 00:00:00",
          "2024-11-03 00:00:00",
          "2024-11-04 00:00:00",
          "2024-11-05 00:00:00",
          "2024-11-06 00:00:00",
          "2024-11-07 00:00:00",
          "2024-11-08 00:00:00",
          "2024-11-09 00:00:00",
          "2024-11-10 00:00:00",
          "2024-11-11 00:00:00",
          "2024-11-12 00:00:00",
          "2024-11-13 00:00:00",
          "2024-11-14 00:00:00",
          "2024-11-15 00:00:00",
          "2024-11-16 00:00:00",
          "2024-11-17 00:00:00",
          "2024-11-18 00:00:00",
          "2024-11-19 00:00:00",
          "2024-11-20 00:00:00",
          "2024-11-21 00:00:00",
          "2024-11-22 00:00:00",
          "2024-11-23 00:00:00",
          "2024-11-24 00:00:00",
          "2024-11-25 00:00:00",
          "2024-11-26 00:00:00",
          "2024-11-27 00:00:00",
          "2024-11-28 00:00:00",
          "2024-11-29 00:00:00",
          "2024-11-30 00:00:00",
          "2024-12-01 00:00:00",
          "2024-12-02 00:00:00",
          "2024-12-03 00:00:00",
          "2024-12-04 00:00:00",
          "2024-12-05 00:00:00",
          "2024-12-06 00:00:00",
          "2024-12-07 00:00:00",
          "2024-12-08 00:00:00",
          "2024-12-09 00:00:00",
          "2024-12-10 00:00:00",
          "2024-12-11 00:00:00",
          "2024-12-12 00:00:00",
          "2024-12-13 00:00:00",
          "2024-12-14 00:00:00",
          "2024-12-15 00:00:00",
          "2024-12-16 00:00:00",
          "2024-12-17 00:00:00",
          "2024-12-18 00:00:00",
          "2024-12-19 00:00:00",
          "2024-12-20 00:00:00",
          "2024-12-21 00:00:00",
          "2024-12-22 00:00:00",
          "2024-12-23 00:00:00",
          "2024-12-24 00:00:00",
          "2024-12-25 00:00:00",
          "2024-12-26 00:00:00",
          "2024-12-27 00:00:00",
          "2024-12-28 00:00:00",
          "2024-12-29 00:00:00",
          "2024-12-30 00:00:00",
          "2024-12-31 00:00:00",
          "2025-01-01 00:00:00",
          "2025-01-02 00:00:00",
          "2025-01-03 00:00:00",
          "2025-01-04 00:00:00",
          "2025-01-05 00:00:00",
          "2025-01-06 00:00:00",
          "2025-01-07 00:00:00",
          "2025-01-08 00:00:00",
          "2025-01-09 00:00:00",
          "2025-01-10 00:00:00",
          "2025-01-11 00:00:00",
          "2025-01-12 00:00:00",
          "2025-01-13 00:00:00",
          "2025-01-14 00:00:00",
          "2025-01-15 00:00:00",
          "2025-01-16 00:00:00",
          "2025-01-17 00:00:00",
          "2025-01-18 00:00:00",
          "2025-01-19 00:00:00",
          "2025-01-20 00:00:00",
          "2025-01-21 00:00:00",
          "2025-01-22 00:00:00",
          "2025-01-23 00:00:00",
          "2025-01-24 00:00:00",
          "2025-01-25 00:00:00",
          "2025-01-26 00:00:00",
          "2025-01-27 00:00:00",
          "2025-01-28 00:00:00",
          "2025-01-29 00:00:00",
          "2025-01-30 00:00:00",
          "2025-01-31 00:00:00",
          "2025-02-01 00:00:00",
          "2025-02-02 00:00:00",
          "2025-02-03 00:00:00",
          "2025-02-04 00:00:00",
          "2025-02-05 00:00:00",
          "2025-02-06 00:00:00",
          "2025-02-07 00:00:00",
          "2025-02-08 00:00:00",
          "2025-02-09 00:00:00",
          "2025-02-10 00:00:00",
          "2025-02-11 00:00:00",
          "2025-02-12 00:00:00",
          "2025-02-13 00:00:00",
          "2025-02-14 00:00:00",
          "2025-02-15 00:00:00",
          "2025-02-16 00:00:00",
          "2025-02-17 00:00:00",
          "2025-02-18 00:00:00",
          "2025-02-19 00:00:00",
          "2025-02-20 00:00:00",
          "2025-02-21 00:00:00",
          "2025-02-22 00:00:00",
          "2025-02-23 00:00:00",
          "2025-02-24 00:00:00",
          "2025-02-25 00:00:00",
          "2025-02-26 00:00:00",
          "2025-02-27 00:00:00",
          "2025-02-28 00:00:00",
          "2025-03-01 00:00:00",
          "2025-03-02 00:00:00",
          "2025-03-03 00:00:00",
          "2025-03-04 00:00:00",
          "2025-03-05 00:00:00",
          "2025-03-06 00:00:00",
          "2025-03-07 00:00:00",
          "2025-03-08 00:00:00",
          "2025-03-09 00:00:00",
          "2025-03-10 00:00:00",
          "2025-03-11 00:00:00",
          "2025-03-12 00:00:00",
          "2025-03-13 00:00:00",
          "2025-03-14 00:00:00",
          "2025-03-15 00:00:00",
          "2025-03-16 00:00:00",
          "2025-03-17 00:00:00",
          "2025-03-18 00:00:00",
          "2025-03-19 00:00:00",
          "2025-03-20 00:00:00",
          "2025-03-21 00:00:00",
          "2025-03-22 00:00:00",
          "2025-03-23 00:00:00",
          "2025-03-24 00:00:00",
          "2025-03-25 00:00:00",
          "2025-03-26 00:00:00",
          "2025-03-27 00:00:00",
          "2025-03-28 00:00:00",
          "2025-03-29 00:00:00",
          "2025-03-30 00:00:00",
          "2025-03-31 00:00:00",
          "2025-04-01 00:00:00",
          "2025-04-02 00:00:00",
          "2025-04-03 00:00:00",
          "2025-04-04 00:00:00",
          "2025-04-05 00:00:00",
          "2025-04-06 00:00:00",
          "2025-04-07 00:00:00",
          "2025-04-08 00:00:00",
          "2025-04-09 00:00:00",
          "2025-04-10 00:00:00",
          "2025-04-11 00:00:00",
          "2025-04-12 00:00:00",
          "2025-04-13 00:00:00",
          "2025-04-14 00:00:00",
          "2025-04-15 00:00:00",
          "2025-04-16 00:00:00",
          "2025-04-17 00:00:00",
          "2025-04-18 00:00:00",
          "2025-04-19 00:00:00",
          "2025-04-20 00:00:00",
          "2025-04-21 00:00:00",
          "2025-04-22 00:00:00",
          "2025-04-23 00:00:00",
          "2025-04-24 00:00:00",
          "2025-04-25 00:00:00",
          "2025-04-26 00:00:00",
          "2025-04-27 00:00:00",
          "2025-04-28 00:00:00",
          "2025-04-29 00:00:00",
          "2025-04-30 00:00:00",
          "2025-05-01 00:00:00",
          "2025-05-02 00:00:00",
          "2025-05-03 00:00:00",
          "2025-05-04 00:00:00",
          "2025-05-05 00:00:00",
          "2025-05-06 00:00:00",
          "2025-05-07 00:00:00",
          "2025-05-08 00:00:00",
          "2025-05-09 00:00:00",
          "2025-05-10 00:00:00",
          "2025-05-11 00:00:00",
          "2025-05-12 00:00:00",
          "2025-05-13 00:00:00",
          "2025-05-14 00:00:00",
          "2025-05-15 00:00:00",
          "2025-05-16 00:00:00",
          "2025-05-17 00:00:00",
          "2025-05-18 00:00:00",
          "2025-05-19 00:00:00",
          "2025-05-20 00:00:00",
          "2025-05-21 00:00:00",
          "2025-05-22 00:00:00",
          "2025-05-23 00:00:00",
          "2025-05-24 00:00:00",
          "2025-05-25 00:00:00",
          "2025-05-26 00:00:00",
          "2025-05-27 00:00:00"
         ],
         "xaxis": "x",
         "y": {
          "bdata": "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",
          "dtype": "f8"
         },
         "yaxis": "y"
        }
       ],
       "layout": {
        "height": 600,
        "hovermode": "x unified",
        "legend": {
         "title": {
          "text": "Tags"
         },
         "tracegroupgap": 0
        },
        "template": {
         "data": {
          "bar": [
           {
            "error_x": {
             "color": "#2a3f5f"
            },
            "error_y": {
             "color": "#2a3f5f"
            },
            "marker": {
             "line": {
              "color": "white",
              "width": 0.5
             },
             "pattern": {
              "fillmode": "overlay",
              "size": 10,
              "solidity": 0.2
             }
            },
            "type": "bar"
           }
          ],
          "barpolar": [
           {
            "marker": {
             "line": {
              "color": "white",
              "width": 0.5
             },
             "pattern": {
              "fillmode": "overlay",
              "size": 10,
              "solidity": 0.2
             }
            },
            "type": "barpolar"
           }
          ],
          "carpet": [
           {
            "aaxis": {
             "endlinecolor": "#2a3f5f",
             "gridcolor": "#C8D4E3",
             "linecolor": "#C8D4E3",
             "minorgridcolor": "#C8D4E3",
             "startlinecolor": "#2a3f5f"
            },
            "baxis": {
             "endlinecolor": "#2a3f5f",
             "gridcolor": "#C8D4E3",
             "linecolor": "#C8D4E3",
             "minorgridcolor": "#C8D4E3",
             "startlinecolor": "#2a3f5f"
            },
            "type": "carpet"
           }
          ],
          "choropleth": [
           {
            "colorbar": {
             "outlinewidth": 0,
             "ticks": ""
            },
            "type": "choropleth"
           }
          ],
          "contour": [
           {
            "colorbar": {
             "outlinewidth": 0,
             "ticks": ""
            },
            "colorscale": [
             [
              0,
              "#0d0887"
             ],
             [
              0.1111111111111111,
              "#46039f"
             ],
             [
              0.2222222222222222,
              "#7201a8"
             ],
             [
              0.3333333333333333,
              "#9c179e"
             ],
             [
              0.4444444444444444,
              "#bd3786"
             ],
             [
              0.5555555555555556,
              "#d8576b"
             ],
             [
              0.6666666666666666,
              "#ed7953"
             ],
             [
              0.7777777777777778,
              "#fb9f3a"
             ],
             [
              0.8888888888888888,
              "#fdca26"
             ],
             [
              1,
              "#f0f921"
             ]
            ],
            "type": "contour"
           }
          ],
          "contourcarpet": [
           {
            "colorbar": {
             "outlinewidth": 0,
             "ticks": ""
            },
            "type": "contourcarpet"
           }
          ],
          "heatmap": [
           {
            "colorbar": {
             "outlinewidth": 0,
             "ticks": ""
            },
            "colorscale": [
             [
              0,
              "#0d0887"
             ],
             [
              0.1111111111111111,
              "#46039f"
             ],
             [
              0.2222222222222222,
              "#7201a8"
             ],
             [
              0.3333333333333333,
              "#9c179e"
             ],
             [
              0.4444444444444444,
              "#bd3786"
             ],
             [
              0.5555555555555556,
              "#d8576b"
             ],
             [
              0.6666666666666666,
              "#ed7953"
             ],
             [
              0.7777777777777778,
              "#fb9f3a"
             ],
             [
              0.8888888888888888,
              "#fdca26"
             ],
             [
              1,
              "#f0f921"
             ]
            ],
            "type": "heatmap"
           }
          ],
          "histogram": [
           {
            "marker": {
             "pattern": {
              "fillmode": "overlay",
              "size": 10,
              "solidity": 0.2
             }
            },
            "type": "histogram"
           }
          ],
          "histogram2d": [
           {
            "colorbar": {
             "outlinewidth": 0,
             "ticks": ""
            },
            "colorscale": [
             [
              0,
              "#0d0887"
             ],
             [
              0.1111111111111111,
              "#46039f"
             ],
             [
              0.2222222222222222,
              "#7201a8"
             ],
             [
              0.3333333333333333,
              "#9c179e"
             ],
             [
              0.4444444444444444,
              "#bd3786"
             ],
             [
              0.5555555555555556,
              "#d8576b"
             ],
             [
              0.6666666666666666,
              "#ed7953"
             ],
             [
              0.7777777777777778,
              "#fb9f3a"
             ],
             [
              0.8888888888888888,
              "#fdca26"
             ],
             [
              1,
              "#f0f921"
             ]
            ],
            "type": "histogram2d"
           }
          ],
          "histogram2dcontour": [
           {
            "colorbar": {
             "outlinewidth": 0,
             "ticks": ""
            },
            "colorscale": [
             [
              0,
              "#0d0887"
             ],
             [
              0.1111111111111111,
              "#46039f"
             ],
             [
              0.2222222222222222,
              "#7201a8"
             ],
             [
              0.3333333333333333,
              "#9c179e"
             ],
             [
              0.4444444444444444,
              "#bd3786"
             ],
             [
              0.5555555555555556,
              "#d8576b"
             ],
             [
              0.6666666666666666,
              "#ed7953"
             ],
             [
              0.7777777777777778,
              "#fb9f3a"
             ],
             [
              0.8888888888888888,
              "#fdca26"
             ],
             [
              1,
              "#f0f921"
             ]
            ],
            "type": "histogram2dcontour"
           }
          ],
          "mesh3d": [
           {
            "colorbar": {
             "outlinewidth": 0,
             "ticks": ""
            },
            "type": "mesh3d"
           }
          ],
          "parcoords": [
           {
            "line": {
             "colorbar": {
              "outlinewidth": 0,
              "ticks": ""
             }
            },
            "type": "parcoords"
           }
          ],
          "pie": [
           {
            "automargin": true,
            "type": "pie"
           }
          ],
          "scatter": [
           {
            "fillpattern": {
             "fillmode": "overlay",
             "size": 10,
             "solidity": 0.2
            },
            "type": "scatter"
           }
          ],
          "scatter3d": [
           {
            "line": {
             "colorbar": {
              "outlinewidth": 0,
              "ticks": ""
             }
            },
            "marker": {
             "colorbar": {
              "outlinewidth": 0,
              "ticks": ""
             }
            },
            "type": "scatter3d"
           }
          ],
          "scattercarpet": [
           {
            "marker": {
             "colorbar": {
              "outlinewidth": 0,
              "ticks": ""
             }
            },
            "type": "scattercarpet"
           }
          ],
          "scattergeo": [
           {
            "marker": {
             "colorbar": {
              "outlinewidth": 0,
              "ticks": ""
             }
            },
            "type": "scattergeo"
           }
          ],
          "scattergl": [
           {
            "marker": {
             "colorbar": {
              "outlinewidth": 0,
              "ticks": ""
             }
            },
            "type": "scattergl"
           }
          ],
          "scattermap": [
           {
            "marker": {
             "colorbar": {
              "outlinewidth": 0,
              "ticks": ""
             }
            },
            "type": "scattermap"
           }
          ],
          "scattermapbox": [
           {
            "marker": {
             "colorbar": {
              "outlinewidth": 0,
              "ticks": ""
             }
            },
            "type": "scattermapbox"
           }
          ],
          "scatterpolar": [
           {
            "marker": {
             "colorbar": {
              "outlinewidth": 0,
              "ticks": ""
             }
            },
            "type": "scatterpolar"
           }
          ],
          "scatterpolargl": [
           {
            "marker": {
             "colorbar": {
              "outlinewidth": 0,
              "ticks": ""
             }
            },
            "type": "scatterpolargl"
           }
          ],
          "scatterternary": [
           {
            "marker": {
             "colorbar": {
              "outlinewidth": 0,
              "ticks": ""
             }
            },
            "type": "scatterternary"
           }
          ],
          "surface": [
           {
            "colorbar": {
             "outlinewidth": 0,
             "ticks": ""
            },
            "colorscale": [
             [
              0,
              "#0d0887"
             ],
             [
              0.1111111111111111,
              "#46039f"
             ],
             [
              0.2222222222222222,
              "#7201a8"
             ],
             [
              0.3333333333333333,
              "#9c179e"
             ],
             [
              0.4444444444444444,
              "#bd3786"
             ],
             [
              0.5555555555555556,
              "#d8576b"
             ],
             [
              0.6666666666666666,
              "#ed7953"
             ],
             [
              0.7777777777777778,
              "#fb9f3a"
             ],
             [
              0.8888888888888888,
              "#fdca26"
             ],
             [
              1,
              "#f0f921"
             ]
            ],
            "type": "surface"
           }
          ],
          "table": [
           {
            "cells": {
             "fill": {
              "color": "#EBF0F8"
             },
             "line": {
              "color": "white"
             }
            },
            "header": {
             "fill": {
              "color": "#C8D4E3"
             },
             "line": {
              "color": "white"
             }
            },
            "type": "table"
           }
          ]
         },
         "layout": {
          "annotationdefaults": {
           "arrowcolor": "#2a3f5f",
           "arrowhead": 0,
           "arrowwidth": 1
          },
          "autotypenumbers": "strict",
          "coloraxis": {
           "colorbar": {
            "outlinewidth": 0,
            "ticks": ""
           }
          },
          "colorscale": {
           "diverging": [
            [
             0,
             "#8e0152"
            ],
            [
             0.1,
             "#c51b7d"
            ],
            [
             0.2,
             "#de77ae"
            ],
            [
             0.3,
             "#f1b6da"
            ],
            [
             0.4,
             "#fde0ef"
            ],
            [
             0.5,
             "#f7f7f7"
            ],
            [
             0.6,
             "#e6f5d0"
            ],
            [
             0.7,
             "#b8e186"
            ],
            [
             0.8,
             "#7fbc41"
            ],
            [
             0.9,
             "#4d9221"
            ],
            [
             1,
             "#276419"
            ]
           ],
           "sequential": [
            [
             0,
             "#0d0887"
            ],
            [
             0.1111111111111111,
             "#46039f"
            ],
            [
             0.2222222222222222,
             "#7201a8"
            ],
            [
             0.3333333333333333,
             "#9c179e"
            ],
            [
             0.4444444444444444,
             "#bd3786"
            ],
            [
             0.5555555555555556,
             "#d8576b"
            ],
            [
             0.6666666666666666,
             "#ed7953"
            ],
            [
             0.7777777777777778,
             "#fb9f3a"
            ],
            [
             0.8888888888888888,
             "#fdca26"
            ],
            [
             1,
             "#f0f921"
            ]
           ],
           "sequentialminus": [
            [
             0,
             "#0d0887"
            ],
            [
             0.1111111111111111,
             "#46039f"
            ],
            [
             0.2222222222222222,
             "#7201a8"
            ],
            [
             0.3333333333333333,
             "#9c179e"
            ],
            [
             0.4444444444444444,
             "#bd3786"
            ],
            [
             0.5555555555555556,
             "#d8576b"
            ],
            [
             0.6666666666666666,
             "#ed7953"
            ],
            [
             0.7777777777777778,
             "#fb9f3a"
            ],
            [
             0.8888888888888888,
             "#fdca26"
            ],
            [
             1,
             "#f0f921"
            ]
           ]
          },
          "colorway": [
           "#636efa",
           "#EF553B",
           "#00cc96",
           "#ab63fa",
           "#FFA15A",
           "#19d3f3",
           "#FF6692",
           "#B6E880",
           "#FF97FF",
           "#FECB52"
          ],
          "font": {
           "color": "#2a3f5f"
          },
          "geo": {
           "bgcolor": "white",
           "lakecolor": "white",
           "landcolor": "white",
           "showlakes": true,
           "showland": true,
           "subunitcolor": "#C8D4E3"
          },
          "hoverlabel": {
           "align": "left"
          },
          "hovermode": "closest",
          "mapbox": {
           "style": "light"
          },
          "paper_bgcolor": "white",
          "plot_bgcolor": "white",
          "polar": {
           "angularaxis": {
            "gridcolor": "#EBF0F8",
            "linecolor": "#EBF0F8",
            "ticks": ""
           },
           "bgcolor": "white",
           "radialaxis": {
            "gridcolor": "#EBF0F8",
            "linecolor": "#EBF0F8",
            "ticks": ""
           }
          },
          "scene": {
           "xaxis": {
            "backgroundcolor": "white",
            "gridcolor": "#DFE8F3",
            "gridwidth": 2,
            "linecolor": "#EBF0F8",
            "showbackground": true,
            "ticks": "",
            "zerolinecolor": "#EBF0F8"
           },
           "yaxis": {
            "backgroundcolor": "white",
            "gridcolor": "#DFE8F3",
            "gridwidth": 2,
            "linecolor": "#EBF0F8",
            "showbackground": true,
            "ticks": "",
            "zerolinecolor": "#EBF0F8"
           },
           "zaxis": {
            "backgroundcolor": "white",
            "gridcolor": "#DFE8F3",
            "gridwidth": 2,
            "linecolor": "#EBF0F8",
            "showbackground": true,
            "ticks": "",
            "zerolinecolor": "#EBF0F8"
           }
          },
          "shapedefaults": {
           "line": {
            "color": "#2a3f5f"
           }
          },
          "ternary": {
           "aaxis": {
            "gridcolor": "#DFE8F3",
            "linecolor": "#A2B1C6",
            "ticks": ""
           },
           "baxis": {
            "gridcolor": "#DFE8F3",
            "linecolor": "#A2B1C6",
            "ticks": ""
           },
           "bgcolor": "white",
           "caxis": {
            "gridcolor": "#DFE8F3",
            "linecolor": "#A2B1C6",
            "ticks": ""
           }
          },
          "title": {
           "x": 0.05
          },
          "xaxis": {
           "automargin": true,
           "gridcolor": "#EBF0F8",
           "linecolor": "#EBF0F8",
           "ticks": "",
           "title": {
            "standoff": 15
           },
           "zerolinecolor": "#EBF0F8",
           "zerolinewidth": 2
          },
          "yaxis": {
           "automargin": true,
           "gridcolor": "#EBF0F8",
           "linecolor": "#EBF0F8",
           "ticks": "",
           "title": {
            "standoff": 15
           },
           "zerolinecolor": "#EBF0F8",
           "zerolinewidth": 2
          }
         }
        },
        "title": {
         "text": "Tag Percentage Over Time"
        },
        "width": 1000,
        "xaxis": {
         "anchor": "y",
         "domain": [
          0,
          1
         ],
         "title": {
          "text": "Date"
         }
        },
        "yaxis": {
         "anchor": "x",
         "domain": [
          0,
          1
         ],
         "tickformat": ".1%",
         "title": {
          "text": "Percentage"
         }
        }
       }
      }
     },
     "metadata": {},
     "output_type": "display_data"
    }
   ],
   "source": [
    "timeseries_df = temp_df.melt(id_vars = ['dateTime','Market Cap Total'], value_vars = tag_columns, var_name = 'Tag', value_name = 'Market Cap by Tag')\n",
    "timeseries_df['Percentage'] = timeseries_df['Market Cap by Tag'] / timeseries_df['Market Cap Total']\n",
    "timeseries_df.drop(columns = ['Market Cap by Tag','Market Cap Total'], inplace = True)\n",
    "\n",
    "\n",
    "timeseries_df = timeseries_df[timeseries_df['Percentage']>0.1]\n",
    "pivot_df = timeseries_df[['dateTime','Tag','Percentage']].pivot(index='dateTime', columns='Tag', values='Percentage')\n",
    "\n",
    "# Create the interactive plot\n",
    "import plotly.express as px\n",
    "import plotly.graph_objects as go\n",
    "from plotly.subplots import make_subplots\n",
    "\n",
    "# Create a Plotly figure\n",
    "fig = px.line(pivot_df.reset_index(), x='dateTime', y=pivot_df.columns,\n",
    "              title='Tag Percentage Over Time',\n",
    "              labels={'value': 'Percentage', 'variable': 'Tag'},\n",
    "              markers=True)  # Add markers to the lines\n",
    "\n",
    "# Customize the layout\n",
    "fig.update_layout(\n",
    "    xaxis_title='Date',\n",
    "    yaxis_title='Percentage',\n",
    "    legend_title='Tags',\n",
    "    hovermode='x unified',\n",
    "    template='plotly_white',\n",
    "    height=600,\n",
    "    width=1000\n",
    ")\n",
    "\n",
    "# Add hover information\n",
    "fig.update_traces(\n",
    "    hovertemplate='<b>%{y:.2%}</b><extra></extra>'\n",
    ")\n",
    "\n",
    "# Format y-axis as percentage\n",
    "fig.update_layout(yaxis_tickformat='.1%')\n",
    "\n",
    "# Show the plot\n",
    "fig.show()\n"
   ]
  },
  {
   "cell_type": "code",
   "execution_count": 8,
   "metadata": {},
   "outputs": [
    {
     "data": {
      "application/vnd.plotly.v1+json": {
       "config": {
        "plotlyServerURL": "https://plot.ly"
       },
       "data": [
        {
         "domain": {
          "x": [
           0,
           1
          ],
          "y": [
           0,
           1
          ]
         },
         "hole": 0.4,
         "hovertemplate": "<b>%{label}</b><br>Market Cap: $%{value:,.0f}<br>Percentage: %{percent}<extra></extra>",
         "labels": [
          "PEPE",
          "ONDO",
          "TAO",
          "TRUMP",
          "VIRTUAL",
          "ENA",
          "BONK",
          "DEXE",
          "FORM",
          "WIF",
          "Others"
         ],
         "legendgroup": "",
         "name": "",
         "showlegend": true,
         "textinfo": "percent+label",
         "type": "pie",
         "values": {
          "bdata": "e7px1PUg9kEFWbZ/3zDxQUjj0VRs1+xB1CWxyFMT40EAAEAmr2rhQQAAAhAuHeFB/gutpdJK2EHETYuC80vRQfDm969FBdFBH6wvXFS80EHJBoWIKcMlQg==",
          "dtype": "f8"
         }
        }
       ],
       "layout": {
        "height": 700,
        "legend": {
         "title": {
          "text": "Coins"
         },
         "tracegroupgap": 0
        },
        "template": {
         "data": {
          "bar": [
           {
            "error_x": {
             "color": "#2a3f5f"
            },
            "error_y": {
             "color": "#2a3f5f"
            },
            "marker": {
             "line": {
              "color": "#E5ECF6",
              "width": 0.5
             },
             "pattern": {
              "fillmode": "overlay",
              "size": 10,
              "solidity": 0.2
             }
            },
            "type": "bar"
           }
          ],
          "barpolar": [
           {
            "marker": {
             "line": {
              "color": "#E5ECF6",
              "width": 0.5
             },
             "pattern": {
              "fillmode": "overlay",
              "size": 10,
              "solidity": 0.2
             }
            },
            "type": "barpolar"
           }
          ],
          "carpet": [
           {
            "aaxis": {
             "endlinecolor": "#2a3f5f",
             "gridcolor": "white",
             "linecolor": "white",
             "minorgridcolor": "white",
             "startlinecolor": "#2a3f5f"
            },
            "baxis": {
             "endlinecolor": "#2a3f5f",
             "gridcolor": "white",
             "linecolor": "white",
             "minorgridcolor": "white",
             "startlinecolor": "#2a3f5f"
            },
            "type": "carpet"
           }
          ],
          "choropleth": [
           {
            "colorbar": {
             "outlinewidth": 0,
             "ticks": ""
            },
            "type": "choropleth"
           }
          ],
          "contour": [
           {
            "colorbar": {
             "outlinewidth": 0,
             "ticks": ""
            },
            "colorscale": [
             [
              0,
              "#0d0887"
             ],
             [
              0.1111111111111111,
              "#46039f"
             ],
             [
              0.2222222222222222,
              "#7201a8"
             ],
             [
              0.3333333333333333,
              "#9c179e"
             ],
             [
              0.4444444444444444,
              "#bd3786"
             ],
             [
              0.5555555555555556,
              "#d8576b"
             ],
             [
              0.6666666666666666,
              "#ed7953"
             ],
             [
              0.7777777777777778,
              "#fb9f3a"
             ],
             [
              0.8888888888888888,
              "#fdca26"
             ],
             [
              1,
              "#f0f921"
             ]
            ],
            "type": "contour"
           }
          ],
          "contourcarpet": [
           {
            "colorbar": {
             "outlinewidth": 0,
             "ticks": ""
            },
            "type": "contourcarpet"
           }
          ],
          "heatmap": [
           {
            "colorbar": {
             "outlinewidth": 0,
             "ticks": ""
            },
            "colorscale": [
             [
              0,
              "#0d0887"
             ],
             [
              0.1111111111111111,
              "#46039f"
             ],
             [
              0.2222222222222222,
              "#7201a8"
             ],
             [
              0.3333333333333333,
              "#9c179e"
             ],
             [
              0.4444444444444444,
              "#bd3786"
             ],
             [
              0.5555555555555556,
              "#d8576b"
             ],
             [
              0.6666666666666666,
              "#ed7953"
             ],
             [
              0.7777777777777778,
              "#fb9f3a"
             ],
             [
              0.8888888888888888,
              "#fdca26"
             ],
             [
              1,
              "#f0f921"
             ]
            ],
            "type": "heatmap"
           }
          ],
          "histogram": [
           {
            "marker": {
             "pattern": {
              "fillmode": "overlay",
              "size": 10,
              "solidity": 0.2
             }
            },
            "type": "histogram"
           }
          ],
          "histogram2d": [
           {
            "colorbar": {
             "outlinewidth": 0,
             "ticks": ""
            },
            "colorscale": [
             [
              0,
              "#0d0887"
             ],
             [
              0.1111111111111111,
              "#46039f"
             ],
             [
              0.2222222222222222,
              "#7201a8"
             ],
             [
              0.3333333333333333,
              "#9c179e"
             ],
             [
              0.4444444444444444,
              "#bd3786"
             ],
             [
              0.5555555555555556,
              "#d8576b"
             ],
             [
              0.6666666666666666,
              "#ed7953"
             ],
             [
              0.7777777777777778,
              "#fb9f3a"
             ],
             [
              0.8888888888888888,
              "#fdca26"
             ],
             [
              1,
              "#f0f921"
             ]
            ],
            "type": "histogram2d"
           }
          ],
          "histogram2dcontour": [
           {
            "colorbar": {
             "outlinewidth": 0,
             "ticks": ""
            },
            "colorscale": [
             [
              0,
              "#0d0887"
             ],
             [
              0.1111111111111111,
              "#46039f"
             ],
             [
              0.2222222222222222,
              "#7201a8"
             ],
             [
              0.3333333333333333,
              "#9c179e"
             ],
             [
              0.4444444444444444,
              "#bd3786"
             ],
             [
              0.5555555555555556,
              "#d8576b"
             ],
             [
              0.6666666666666666,
              "#ed7953"
             ],
             [
              0.7777777777777778,
              "#fb9f3a"
             ],
             [
              0.8888888888888888,
              "#fdca26"
             ],
             [
              1,
              "#f0f921"
             ]
            ],
            "type": "histogram2dcontour"
           }
          ],
          "mesh3d": [
           {
            "colorbar": {
             "outlinewidth": 0,
             "ticks": ""
            },
            "type": "mesh3d"
           }
          ],
          "parcoords": [
           {
            "line": {
             "colorbar": {
              "outlinewidth": 0,
              "ticks": ""
             }
            },
            "type": "parcoords"
           }
          ],
          "pie": [
           {
            "automargin": true,
            "type": "pie"
           }
          ],
          "scatter": [
           {
            "fillpattern": {
             "fillmode": "overlay",
             "size": 10,
             "solidity": 0.2
            },
            "type": "scatter"
           }
          ],
          "scatter3d": [
           {
            "line": {
             "colorbar": {
              "outlinewidth": 0,
              "ticks": ""
             }
            },
            "marker": {
             "colorbar": {
              "outlinewidth": 0,
              "ticks": ""
             }
            },
            "type": "scatter3d"
           }
          ],
          "scattercarpet": [
           {
            "marker": {
             "colorbar": {
              "outlinewidth": 0,
              "ticks": ""
             }
            },
            "type": "scattercarpet"
           }
          ],
          "scattergeo": [
           {
            "marker": {
             "colorbar": {
              "outlinewidth": 0,
              "ticks": ""
             }
            },
            "type": "scattergeo"
           }
          ],
          "scattergl": [
           {
            "marker": {
             "colorbar": {
              "outlinewidth": 0,
              "ticks": ""
             }
            },
            "type": "scattergl"
           }
          ],
          "scattermap": [
           {
            "marker": {
             "colorbar": {
              "outlinewidth": 0,
              "ticks": ""
             }
            },
            "type": "scattermap"
           }
          ],
          "scattermapbox": [
           {
            "marker": {
             "colorbar": {
              "outlinewidth": 0,
              "ticks": ""
             }
            },
            "type": "scattermapbox"
           }
          ],
          "scatterpolar": [
           {
            "marker": {
             "colorbar": {
              "outlinewidth": 0,
              "ticks": ""
             }
            },
            "type": "scatterpolar"
           }
          ],
          "scatterpolargl": [
           {
            "marker": {
             "colorbar": {
              "outlinewidth": 0,
              "ticks": ""
             }
            },
            "type": "scatterpolargl"
           }
          ],
          "scatterternary": [
           {
            "marker": {
             "colorbar": {
              "outlinewidth": 0,
              "ticks": ""
             }
            },
            "type": "scatterternary"
           }
          ],
          "surface": [
           {
            "colorbar": {
             "outlinewidth": 0,
             "ticks": ""
            },
            "colorscale": [
             [
              0,
              "#0d0887"
             ],
             [
              0.1111111111111111,
              "#46039f"
             ],
             [
              0.2222222222222222,
              "#7201a8"
             ],
             [
              0.3333333333333333,
              "#9c179e"
             ],
             [
              0.4444444444444444,
              "#bd3786"
             ],
             [
              0.5555555555555556,
              "#d8576b"
             ],
             [
              0.6666666666666666,
              "#ed7953"
             ],
             [
              0.7777777777777778,
              "#fb9f3a"
             ],
             [
              0.8888888888888888,
              "#fdca26"
             ],
             [
              1,
              "#f0f921"
             ]
            ],
            "type": "surface"
           }
          ],
          "table": [
           {
            "cells": {
             "fill": {
              "color": "#EBF0F8"
             },
             "line": {
              "color": "white"
             }
            },
            "header": {
             "fill": {
              "color": "#C8D4E3"
             },
             "line": {
              "color": "white"
             }
            },
            "type": "table"
           }
          ]
         },
         "layout": {
          "annotationdefaults": {
           "arrowcolor": "#2a3f5f",
           "arrowhead": 0,
           "arrowwidth": 1
          },
          "autotypenumbers": "strict",
          "coloraxis": {
           "colorbar": {
            "outlinewidth": 0,
            "ticks": ""
           }
          },
          "colorscale": {
           "diverging": [
            [
             0,
             "#8e0152"
            ],
            [
             0.1,
             "#c51b7d"
            ],
            [
             0.2,
             "#de77ae"
            ],
            [
             0.3,
             "#f1b6da"
            ],
            [
             0.4,
             "#fde0ef"
            ],
            [
             0.5,
             "#f7f7f7"
            ],
            [
             0.6,
             "#e6f5d0"
            ],
            [
             0.7,
             "#b8e186"
            ],
            [
             0.8,
             "#7fbc41"
            ],
            [
             0.9,
             "#4d9221"
            ],
            [
             1,
             "#276419"
            ]
           ],
           "sequential": [
            [
             0,
             "#0d0887"
            ],
            [
             0.1111111111111111,
             "#46039f"
            ],
            [
             0.2222222222222222,
             "#7201a8"
            ],
            [
             0.3333333333333333,
             "#9c179e"
            ],
            [
             0.4444444444444444,
             "#bd3786"
            ],
            [
             0.5555555555555556,
             "#d8576b"
            ],
            [
             0.6666666666666666,
             "#ed7953"
            ],
            [
             0.7777777777777778,
             "#fb9f3a"
            ],
            [
             0.8888888888888888,
             "#fdca26"
            ],
            [
             1,
             "#f0f921"
            ]
           ],
           "sequentialminus": [
            [
             0,
             "#0d0887"
            ],
            [
             0.1111111111111111,
             "#46039f"
            ],
            [
             0.2222222222222222,
             "#7201a8"
            ],
            [
             0.3333333333333333,
             "#9c179e"
            ],
            [
             0.4444444444444444,
             "#bd3786"
            ],
            [
             0.5555555555555556,
             "#d8576b"
            ],
            [
             0.6666666666666666,
             "#ed7953"
            ],
            [
             0.7777777777777778,
             "#fb9f3a"
            ],
            [
             0.8888888888888888,
             "#fdca26"
            ],
            [
             1,
             "#f0f921"
            ]
           ]
          },
          "colorway": [
           "#636efa",
           "#EF553B",
           "#00cc96",
           "#ab63fa",
           "#FFA15A",
           "#19d3f3",
           "#FF6692",
           "#B6E880",
           "#FF97FF",
           "#FECB52"
          ],
          "font": {
           "color": "#2a3f5f"
          },
          "geo": {
           "bgcolor": "white",
           "lakecolor": "white",
           "landcolor": "#E5ECF6",
           "showlakes": true,
           "showland": true,
           "subunitcolor": "white"
          },
          "hoverlabel": {
           "align": "left"
          },
          "hovermode": "closest",
          "mapbox": {
           "style": "light"
          },
          "paper_bgcolor": "white",
          "plot_bgcolor": "#E5ECF6",
          "polar": {
           "angularaxis": {
            "gridcolor": "white",
            "linecolor": "white",
            "ticks": ""
           },
           "bgcolor": "#E5ECF6",
           "radialaxis": {
            "gridcolor": "white",
            "linecolor": "white",
            "ticks": ""
           }
          },
          "scene": {
           "xaxis": {
            "backgroundcolor": "#E5ECF6",
            "gridcolor": "white",
            "gridwidth": 2,
            "linecolor": "white",
            "showbackground": true,
            "ticks": "",
            "zerolinecolor": "white"
           },
           "yaxis": {
            "backgroundcolor": "#E5ECF6",
            "gridcolor": "white",
            "gridwidth": 2,
            "linecolor": "white",
            "showbackground": true,
            "ticks": "",
            "zerolinecolor": "white"
           },
           "zaxis": {
            "backgroundcolor": "#E5ECF6",
            "gridcolor": "white",
            "gridwidth": 2,
            "linecolor": "white",
            "showbackground": true,
            "ticks": "",
            "zerolinecolor": "white"
           }
          },
          "shapedefaults": {
           "line": {
            "color": "#2a3f5f"
           }
          },
          "ternary": {
           "aaxis": {
            "gridcolor": "white",
            "linecolor": "white",
            "ticks": ""
           },
           "baxis": {
            "gridcolor": "white",
            "linecolor": "white",
            "ticks": ""
           },
           "bgcolor": "#E5ECF6",
           "caxis": {
            "gridcolor": "white",
            "linecolor": "white",
            "ticks": ""
           }
          },
          "title": {
           "x": 0.05
          },
          "xaxis": {
           "automargin": true,
           "gridcolor": "white",
           "linecolor": "white",
           "ticks": "",
           "title": {
            "standoff": 15
           },
           "zerolinecolor": "white",
           "zerolinewidth": 2
          },
          "yaxis": {
           "automargin": true,
           "gridcolor": "white",
           "linecolor": "white",
           "ticks": "",
           "title": {
            "standoff": 15
           },
           "zerolinecolor": "white",
           "zerolinewidth": 2
          }
         }
        },
        "title": {
         "text": "Market Cap Distribution of Seed Coins"
        },
        "width": 900
       }
      }
     },
     "metadata": {},
     "output_type": "display_data"
    }
   ],
   "source": [
    "# Filter coins with Tag_Seed\n",
    "coins_df\n",
    "seed_coins = coins_df[coins_df['Tag_Seed'] == True]\n",
    "\n",
    "# # Calculate market cap for each coin (using close price)\n",
    "\n",
    "\n",
    "# # Sort by market cap and get top 10 for better visualization\n",
    "top_seed_coins = seed_coins.sort_values('Market Cap', ascending=False).head(10)\n",
    "other_market_cap = seed_coins.iloc[20:]['Market Cap'].sum() if len(seed_coins) > 10 else 0\n",
    "\n",
    "# # Create data for pie chart\n",
    "labels = list(top_seed_coins['Coin'])\n",
    "if other_market_cap > 0:\n",
    "    labels.append('Others')\n",
    "    \n",
    "values = list(top_seed_coins['Market Cap'])\n",
    "if other_market_cap > 0:\n",
    "    values.append(other_market_cap)\n",
    "\n",
    "# Create pie chart\n",
    "fig = px.pie(\n",
    "    names=labels,\n",
    "    values=values,\n",
    "    title='Market Cap Distribution of Seed Coins',\n",
    "    hole=0.4,\n",
    ")\n",
    "\n",
    "# Customize layout\n",
    "fig.update_layout(\n",
    "    legend_title=\"Coins\",\n",
    "    width=900,\n",
    "    height=700\n",
    ")\n",
    "\n",
    "# Format hover text to show values in billions/millions\n",
    "fig.update_traces(\n",
    "    textinfo='percent+label',\n",
    "    hovertemplate='<b>%{label}</b><br>Market Cap: $%{value:,.0f}<br>Percentage: %{percent}<extra></extra>'\n",
    ")\n",
    "\n",
    "# Show the chart\n",
    "fig.show()"
   ]
  },
  {
   "cell_type": "code",
   "execution_count": 9,
   "metadata": {},
   "outputs": [
    {
     "name": "stderr",
     "output_type": "stream",
     "text": [
      "/var/folders/zg/dk0qffx55tj5q4d2hvpp5m2c0000gn/T/ipykernel_76368/4293428954.py:33: FutureWarning:\n",
      "\n",
      "Downcasting object dtype arrays on .fillna, .ffill, .bfill is deprecated and will change in a future version. Call result.infer_objects(copy=False) instead. To opt-in to the future behavior, set `pd.set_option('future.no_silent_downcasting', True)`\n",
      "\n"
     ]
    },
    {
     "data": {
      "image/png": "[encoded data removed]",
      "text/plain": [
       "<Figure size 1500x800 with 1 Axes>"
      ]
     },
     "metadata": {},
     "output_type": "display_data"
    }
   ],
   "source": [
    "def get_top_coins(category, top_n = 10, coins_df = get_coins_data()):\n",
    "    coins_df = coins_df[coins_df[category] == True]\n",
    "    top_10_coins = coins_df.sort_values('Market Cap', ascending=False).head(top_n)\n",
    "    return top_10_coins\n",
    "\n",
    "# Get top 5 DeFi coins\n",
    "top = get_top_coins('Tag_Seed', top_n = 10)[['Coin','Circulating Supply']]\n",
    "top = history[history['Coin'].isin(top['Coin'])].merge(top, on = 'Coin', how = 'left')\n",
    "top['Market Cap'] = top['Circulating Supply'] * top['close']\n",
    "top = top[['dateTime','Coin','Market Cap']]\n",
    "top['dateTime'] = pd.to_datetime(top['dateTime'], format='%Y-%m-%d %H:%M:%S')\n",
    "\n",
    "# Create a better looking plot\n",
    "plt.figure(figsize=(15, 8))\n",
    "ax = plt.gca()\n",
    "\n",
    "# Plot the data with improved styling\n",
    "pivot_data = top.pivot(index='dateTime', columns='Coin', values='Market Cap')\n",
    "pivot_data.plot(ax=ax, linewidth=2.5, alpha=0.8)\n",
    "\n",
    "# Format y-axis to show billions\n",
    "def billions_formatter(x, pos):\n",
    "    return f'${x/1e9:.1f}B'\n",
    "ax.yaxis.set_major_formatter(plt.FuncFormatter(billions_formatter))\n",
    "\n",
    "# Improve the styling\n",
    "plt.grid(True, linestyle='--', alpha=0.7)\n",
    "plt.title('Market Cap Evolution of Top 5 Seed Coins', fontsize=16, pad=20)\n",
    "plt.ylabel('Market Capitalization', fontsize=14)\n",
    "plt.xlabel('Date', fontsize=14)\n",
    "plt.xticks(rotation=45)\n",
    "plt.legend(title='Coins', title_fontsize=12, fontsize=10, loc='upper left', frameon=True, facecolor='white', framealpha=0.9)\n",
    "\n",
    "# Add some padding\n",
    "plt.tight_layout()\n",
    "\n",
    "# Add a subtle background color\n",
    "ax.set_facecolor('#f8f9fa')\n",
    "\n"
   ]
  },
  {
   "cell_type": "code",
   "execution_count": 10,
   "metadata": {},
   "outputs": [
    {
     "data": {
      "text/plain": [
       "0       $50M-$100M\n",
       "1      $100M-$500M\n",
       "2      $100M-$500M\n",
       "4      $100M-$500M\n",
       "7        $10M-$50M\n",
       "          ...     \n",
       "378    $100M-$500M\n",
       "379        $1B-$5B\n",
       "383    $100M-$500M\n",
       "397      $500M-$1B\n",
       "398      $500M-$1B\n",
       "Name: Market Cap, Length: 150, dtype: object"
      ]
     },
     "execution_count": 10,
     "metadata": {},
     "output_type": "execute_result"
    }
   ],
   "source": [
    "temp = coins_df[coins_df['Tag_Seed'] == True]\n",
    "thresholds = [\n",
    "    (0, 1_000_000, '<$1M'),\n",
    "    (1_000_000, 10_000_000, '$1M-$10M'),\n",
    "    (10_000_000, 50_000_000, '$10M-$50M'),\n",
    "    (50_000_000, 100_000_000, '$50M-$100M'),\n",
    "    (100_000_000, 500_000_000, '$100M-$500M'),\n",
    "    (500_000_000, 1_000_000_000, '$500M-$1B'),\n",
    "    (1_000_000_000, 5_000_000_000, '$1B-$5B'),\n",
    "    (5_000_000_000, 10_000_000_000, '$5B-$10B'),\n",
    "    (10_000_000_000, 50_000_000_000, '$10B-$50B'),\n",
    "    (50_000_000_000, float('inf'), '>$50B')\n",
    "]\n",
    "def categorize_market_cap(cap):\n",
    "    for low, high, label in thresholds:\n",
    "        if low <= cap < high:\n",
    "            return label\n",
    "    return '>$10B'  # Default for very large caps\n",
    "\n",
    "temp['Market Cap'].apply(categorize_market_cap)"
   ]
  },
  {
   "cell_type": "code",
   "execution_count": 11,
   "metadata": {},
   "outputs": [
    {
     "name": "stderr",
     "output_type": "stream",
     "text": [
      "/var/folders/zg/dk0qffx55tj5q4d2hvpp5m2c0000gn/T/ipykernel_76368/4293428954.py:33: FutureWarning:\n",
      "\n",
      "Downcasting object dtype arrays on .fillna, .ffill, .bfill is deprecated and will change in a future version. Call result.infer_objects(copy=False) instead. To opt-in to the future behavior, set `pd.set_option('future.no_silent_downcasting', True)`\n",
      "\n",
      "/var/folders/zg/dk0qffx55tj5q4d2hvpp5m2c0000gn/T/ipykernel_76368/4293428954.py:33: FutureWarning:\n",
      "\n",
      "Downcasting object dtype arrays on .fillna, .ffill, .bfill is deprecated and will change in a future version. Call result.infer_objects(copy=False) instead. To opt-in to the future behavior, set `pd.set_option('future.no_silent_downcasting', True)`\n",
      "\n"
     ]
    },
    {
     "data": {
      "application/vnd.plotly.v1+json": {
       "config": {
        "plotlyServerURL": "https://plot.ly"
       },
       "data": [
        {
         "domain": {
          "x": [
           0,
           0.45
          ],
          "y": [
           0,
           1
          ]
         },
         "hole": 0.4,
         "hoverinfo": "label+percent+value",
         "labels": [
          "$10M-$50M",
          "$50M-$100M",
          "$100M-$500M",
          "$500M-$1B",
          "$1B-$5B",
          "$5B-$10B",
          "$10B-$50B"
         ],
         "marker": {
          "line": {
           "color": "#000000",
           "width": 1
          }
         },
         "textinfo": "label+percent",
         "type": "pie",
         "values": {
          "bdata": "pHA9CtejHUCF61G4HoUyQLgehetROEZApHA9CtejHUC4HoXrUTgmQKRwPQrXox1AmpmZmZmZDUA=",
          "dtype": "f8"
         }
        },
        {
         "hovertemplate": "%{x}<br>Count: %{y}<br>Percentage: %{text:.2f}%",
         "marker": {
          "color": "royalblue"
         },
         "text": {
          "bdata": "pHA9CtejHUCF61G4HoUyQLgehetROEZApHA9CtejHUC4HoXrUTgmQKRwPQrXox1AmpmZmZmZDUA=",
          "dtype": "f8"
         },
         "textposition": "auto",
         "type": "bar",
         "x": [
          "$10M-$50M",
          "$50M-$100M",
          "$100M-$500M",
          "$500M-$1B",
          "$1B-$5B",
          "$5B-$10B",
          "$10B-$50B"
         ],
         "xaxis": "x",
         "y": {
          "bdata": "AgUMAgMCAQ==",
          "dtype": "i1"
         },
         "yaxis": "y"
        }
       ],
       "layout": {
        "annotations": [
         {
          "font": {
           "size": 16
          },
          "showarrow": false,
          "text": "Market Cap Distribution (%)",
          "x": 0.225,
          "xanchor": "center",
          "xref": "paper",
          "y": 1,
          "yanchor": "bottom",
          "yref": "paper"
         },
         {
          "font": {
           "size": 16
          },
          "showarrow": false,
          "text": "Number of Coins by Market Cap",
          "x": 0.775,
          "xanchor": "center",
          "xref": "paper",
          "y": 1,
          "yanchor": "bottom",
          "yref": "paper"
         }
        ],
        "height": 600,
        "legend": {
         "orientation": "h",
         "x": 1,
         "xanchor": "right",
         "y": 1.02,
         "yanchor": "bottom"
        },
        "showlegend": true,
        "template": {
         "data": {
          "bar": [
           {
            "error_x": {
             "color": "#2a3f5f"
            },
            "error_y": {
             "color": "#2a3f5f"
            },
            "marker": {
             "line": {
              "color": "#E5ECF6",
              "width": 0.5
             },
             "pattern": {
              "fillmode": "overlay",
              "size": 10,
              "solidity": 0.2
             }
            },
            "type": "bar"
           }
          ],
          "barpolar": [
           {
            "marker": {
             "line": {
              "color": "#E5ECF6",
              "width": 0.5
             },
             "pattern": {
              "fillmode": "overlay",
              "size": 10,
              "solidity": 0.2
             }
            },
            "type": "barpolar"
           }
          ],
          "carpet": [
           {
            "aaxis": {
             "endlinecolor": "#2a3f5f",
             "gridcolor": "white",
             "linecolor": "white",
             "minorgridcolor": "white",
             "startlinecolor": "#2a3f5f"
            },
            "baxis": {
             "endlinecolor": "#2a3f5f",
             "gridcolor": "white",
             "linecolor": "white",
             "minorgridcolor": "white",
             "startlinecolor": "#2a3f5f"
            },
            "type": "carpet"
           }
          ],
          "choropleth": [
           {
            "colorbar": {
             "outlinewidth": 0,
             "ticks": ""
            },
            "type": "choropleth"
           }
          ],
          "contour": [
           {
            "colorbar": {
             "outlinewidth": 0,
             "ticks": ""
            },
            "colorscale": [
             [
              0,
              "#0d0887"
             ],
             [
              0.1111111111111111,
              "#46039f"
             ],
             [
              0.2222222222222222,
              "#7201a8"
             ],
             [
              0.3333333333333333,
              "#9c179e"
             ],
             [
              0.4444444444444444,
              "#bd3786"
             ],
             [
              0.5555555555555556,
              "#d8576b"
             ],
             [
              0.6666666666666666,
              "#ed7953"
             ],
             [
              0.7777777777777778,
              "#fb9f3a"
             ],
             [
              0.8888888888888888,
              "#fdca26"
             ],
             [
              1,
              "#f0f921"
             ]
            ],
            "type": "contour"
           }
          ],
          "contourcarpet": [
           {
            "colorbar": {
             "outlinewidth": 0,
             "ticks": ""
            },
            "type": "contourcarpet"
           }
          ],
          "heatmap": [
           {
            "colorbar": {
             "outlinewidth": 0,
             "ticks": ""
            },
            "colorscale": [
             [
              0,
              "#0d0887"
             ],
             [
              0.1111111111111111,
              "#46039f"
             ],
             [
              0.2222222222222222,
              "#7201a8"
             ],
             [
              0.3333333333333333,
              "#9c179e"
             ],
             [
              0.4444444444444444,
              "#bd3786"
             ],
             [
              0.5555555555555556,
              "#d8576b"
             ],
             [
              0.6666666666666666,
              "#ed7953"
             ],
             [
              0.7777777777777778,
              "#fb9f3a"
             ],
             [
              0.8888888888888888,
              "#fdca26"
             ],
             [
              1,
              "#f0f921"
             ]
            ],
            "type": "heatmap"
           }
          ],
          "histogram": [
           {
            "marker": {
             "pattern": {
              "fillmode": "overlay",
              "size": 10,
              "solidity": 0.2
             }
            },
            "type": "histogram"
           }
          ],
          "histogram2d": [
           {
            "colorbar": {
             "outlinewidth": 0,
             "ticks": ""
            },
            "colorscale": [
             [
              0,
              "#0d0887"
             ],
             [
              0.1111111111111111,
              "#46039f"
             ],
             [
              0.2222222222222222,
              "#7201a8"
             ],
             [
              0.3333333333333333,
              "#9c179e"
             ],
             [
              0.4444444444444444,
              "#bd3786"
             ],
             [
              0.5555555555555556,
              "#d8576b"
             ],
             [
              0.6666666666666666,
              "#ed7953"
             ],
             [
              0.7777777777777778,
              "#fb9f3a"
             ],
             [
              0.8888888888888888,
              "#fdca26"
             ],
             [
              1,
              "#f0f921"
             ]
            ],
            "type": "histogram2d"
           }
          ],
          "histogram2dcontour": [
           {
            "colorbar": {
             "outlinewidth": 0,
             "ticks": ""
            },
            "colorscale": [
             [
              0,
              "#0d0887"
             ],
             [
              0.1111111111111111,
              "#46039f"
             ],
             [
              0.2222222222222222,
              "#7201a8"
             ],
             [
              0.3333333333333333,
              "#9c179e"
             ],
             [
              0.4444444444444444,
              "#bd3786"
             ],
             [
              0.5555555555555556,
              "#d8576b"
             ],
             [
              0.6666666666666666,
              "#ed7953"
             ],
             [
              0.7777777777777778,
              "#fb9f3a"
             ],
             [
              0.8888888888888888,
              "#fdca26"
             ],
             [
              1,
              "#f0f921"
             ]
            ],
            "type": "histogram2dcontour"
           }
          ],
          "mesh3d": [
           {
            "colorbar": {
             "outlinewidth": 0,
             "ticks": ""
            },
            "type": "mesh3d"
           }
          ],
          "parcoords": [
           {
            "line": {
             "colorbar": {
              "outlinewidth": 0,
              "ticks": ""
             }
            },
            "type": "parcoords"
           }
          ],
          "pie": [
           {
            "automargin": true,
            "type": "pie"
           }
          ],
          "scatter": [
           {
            "fillpattern": {
             "fillmode": "overlay",
             "size": 10,
             "solidity": 0.2
            },
            "type": "scatter"
           }
          ],
          "scatter3d": [
           {
            "line": {
             "colorbar": {
              "outlinewidth": 0,
              "ticks": ""
             }
            },
            "marker": {
             "colorbar": {
              "outlinewidth": 0,
              "ticks": ""
             }
            },
            "type": "scatter3d"
           }
          ],
          "scattercarpet": [
           {
            "marker": {
             "colorbar": {
              "outlinewidth": 0,
              "ticks": ""
             }
            },
            "type": "scattercarpet"
           }
          ],
          "scattergeo": [
           {
            "marker": {
             "colorbar": {
              "outlinewidth": 0,
              "ticks": ""
             }
            },
            "type": "scattergeo"
           }
          ],
          "scattergl": [
           {
            "marker": {
             "colorbar": {
              "outlinewidth": 0,
              "ticks": ""
             }
            },
            "type": "scattergl"
           }
          ],
          "scattermap": [
           {
            "marker": {
             "colorbar": {
              "outlinewidth": 0,
              "ticks": ""
             }
            },
            "type": "scattermap"
           }
          ],
          "scattermapbox": [
           {
            "marker": {
             "colorbar": {
              "outlinewidth": 0,
              "ticks": ""
             }
            },
            "type": "scattermapbox"
           }
          ],
          "scatterpolar": [
           {
            "marker": {
             "colorbar": {
              "outlinewidth": 0,
              "ticks": ""
             }
            },
            "type": "scatterpolar"
           }
          ],
          "scatterpolargl": [
           {
            "marker": {
             "colorbar": {
              "outlinewidth": 0,
              "ticks": ""
             }
            },
            "type": "scatterpolargl"
           }
          ],
          "scatterternary": [
           {
            "marker": {
             "colorbar": {
              "outlinewidth": 0,
              "ticks": ""
             }
            },
            "type": "scatterternary"
           }
          ],
          "surface": [
           {
            "colorbar": {
             "outlinewidth": 0,
             "ticks": ""
            },
            "colorscale": [
             [
              0,
              "#0d0887"
             ],
             [
              0.1111111111111111,
              "#46039f"
             ],
             [
              0.2222222222222222,
              "#7201a8"
             ],
             [
              0.3333333333333333,
              "#9c179e"
             ],
             [
              0.4444444444444444,
              "#bd3786"
             ],
             [
              0.5555555555555556,
              "#d8576b"
             ],
             [
              0.6666666666666666,
              "#ed7953"
             ],
             [
              0.7777777777777778,
              "#fb9f3a"
             ],
             [
              0.8888888888888888,
              "#fdca26"
             ],
             [
              1,
              "#f0f921"
             ]
            ],
            "type": "surface"
           }
          ],
          "table": [
           {
            "cells": {
             "fill": {
              "color": "#EBF0F8"
             },
             "line": {
              "color": "white"
             }
            },
            "header": {
             "fill": {
              "color": "#C8D4E3"
             },
             "line": {
              "color": "white"
             }
            },
            "type": "table"
           }
          ]
         },
         "layout": {
          "annotationdefaults": {
           "arrowcolor": "#2a3f5f",
           "arrowhead": 0,
           "arrowwidth": 1
          },
          "autotypenumbers": "strict",
          "coloraxis": {
           "colorbar": {
            "outlinewidth": 0,
            "ticks": ""
           }
          },
          "colorscale": {
           "diverging": [
            [
             0,
             "#8e0152"
            ],
            [
             0.1,
             "#c51b7d"
            ],
            [
             0.2,
             "#de77ae"
            ],
            [
             0.3,
             "#f1b6da"
            ],
            [
             0.4,
             "#fde0ef"
            ],
            [
             0.5,
             "#f7f7f7"
            ],
            [
             0.6,
             "#e6f5d0"
            ],
            [
             0.7,
             "#b8e186"
            ],
            [
             0.8,
             "#7fbc41"
            ],
            [
             0.9,
             "#4d9221"
            ],
            [
             1,
             "#276419"
            ]
           ],
           "sequential": [
            [
             0,
             "#0d0887"
            ],
            [
             0.1111111111111111,
             "#46039f"
            ],
            [
             0.2222222222222222,
             "#7201a8"
            ],
            [
             0.3333333333333333,
             "#9c179e"
            ],
            [
             0.4444444444444444,
             "#bd3786"
            ],
            [
             0.5555555555555556,
             "#d8576b"
            ],
            [
             0.6666666666666666,
             "#ed7953"
            ],
            [
             0.7777777777777778,
             "#fb9f3a"
            ],
            [
             0.8888888888888888,
             "#fdca26"
            ],
            [
             1,
             "#f0f921"
            ]
           ],
           "sequentialminus": [
            [
             0,
             "#0d0887"
            ],
            [
             0.1111111111111111,
             "#46039f"
            ],
            [
             0.2222222222222222,
             "#7201a8"
            ],
            [
             0.3333333333333333,
             "#9c179e"
            ],
            [
             0.4444444444444444,
             "#bd3786"
            ],
            [
             0.5555555555555556,
             "#d8576b"
            ],
            [
             0.6666666666666666,
             "#ed7953"
            ],
            [
             0.7777777777777778,
             "#fb9f3a"
            ],
            [
             0.8888888888888888,
             "#fdca26"
            ],
            [
             1,
             "#f0f921"
            ]
           ]
          },
          "colorway": [
           "#636efa",
           "#EF553B",
           "#00cc96",
           "#ab63fa",
           "#FFA15A",
           "#19d3f3",
           "#FF6692",
           "#B6E880",
           "#FF97FF",
           "#FECB52"
          ],
          "font": {
           "color": "#2a3f5f"
          },
          "geo": {
           "bgcolor": "white",
           "lakecolor": "white",
           "landcolor": "#E5ECF6",
           "showlakes": true,
           "showland": true,
           "subunitcolor": "white"
          },
          "hoverlabel": {
           "align": "left"
          },
          "hovermode": "closest",
          "mapbox": {
           "style": "light"
          },
          "paper_bgcolor": "white",
          "plot_bgcolor": "#E5ECF6",
          "polar": {
           "angularaxis": {
            "gridcolor": "white",
            "linecolor": "white",
            "ticks": ""
           },
           "bgcolor": "#E5ECF6",
           "radialaxis": {
            "gridcolor": "white",
            "linecolor": "white",
            "ticks": ""
           }
          },
          "scene": {
           "xaxis": {
            "backgroundcolor": "#E5ECF6",
            "gridcolor": "white",
            "gridwidth": 2,
            "linecolor": "white",
            "showbackground": true,
            "ticks": "",
            "zerolinecolor": "white"
           },
           "yaxis": {
            "backgroundcolor": "#E5ECF6",
            "gridcolor": "white",
            "gridwidth": 2,
            "linecolor": "white",
            "showbackground": true,
            "ticks": "",
            "zerolinecolor": "white"
           },
           "zaxis": {
            "backgroundcolor": "#E5ECF6",
            "gridcolor": "white",
            "gridwidth": 2,
            "linecolor": "white",
            "showbackground": true,
            "ticks": "",
            "zerolinecolor": "white"
           }
          },
          "shapedefaults": {
           "line": {
            "color": "#2a3f5f"
           }
          },
          "ternary": {
           "aaxis": {
            "gridcolor": "white",
            "linecolor": "white",
            "ticks": ""
           },
           "baxis": {
            "gridcolor": "white",
            "linecolor": "white",
            "ticks": ""
           },
           "bgcolor": "#E5ECF6",
           "caxis": {
            "gridcolor": "white",
            "linecolor": "white",
            "ticks": ""
           }
          },
          "title": {
           "x": 0.05
          },
          "xaxis": {
           "automargin": true,
           "gridcolor": "white",
           "linecolor": "white",
           "ticks": "",
           "title": {
            "standoff": 15
           },
           "zerolinecolor": "white",
           "zerolinewidth": 2
          },
          "yaxis": {
           "automargin": true,
           "gridcolor": "white",
           "linecolor": "white",
           "ticks": "",
           "title": {
            "standoff": 15
           },
           "zerolinecolor": "white",
           "zerolinewidth": 2
          }
         }
        },
        "title": {
         "text": "Market Cap Distribution for Meme Coins"
        },
        "width": 1200,
        "xaxis": {
         "anchor": "y",
         "domain": [
          0.55,
          1
         ]
        },
        "yaxis": {
         "anchor": "x",
         "domain": [
          0,
          1
         ]
        }
       }
      }
     },
     "metadata": {},
     "output_type": "display_data"
    },
    {
     "data": {
      "application/vnd.jupyter.widget-view+json": {
       "model_id": "896f7bd6a2414f4c882773f333944fb2",
       "version_major": 2,
       "version_minor": 0
      },
      "text/plain": [
       "interactive(children=(Dropdown(description='Category:', index=1, options=(None, 'Tag_Meme', 'Tag_Seed', 'Tag_b…"
      ]
     },
     "metadata": {},
     "output_type": "display_data"
    },
    {
     "data": {
      "application/vnd.plotly.v1+json": {
       "config": {
        "plotlyServerURL": "https://plot.ly"
       },
       "data": [
        {
         "domain": {
          "x": [
           0,
           0.45
          ],
          "y": [
           0,
           1
          ]
         },
         "hole": 0.4,
         "hoverinfo": "label+percent+value",
         "labels": [
          "$10M-$50M",
          "$50M-$100M",
          "$100M-$500M",
          "$500M-$1B",
          "$1B-$5B",
          "$5B-$10B",
          "$10B-$50B"
         ],
         "marker": {
          "line": {
           "color": "#000000",
           "width": 1
          }
         },
         "textinfo": "label+percent",
         "type": "pie",
         "values": {
          "bdata": "pHA9CtejHUCF61G4HoUyQLgehetROEZApHA9CtejHUC4HoXrUTgmQKRwPQrXox1AmpmZmZmZDUA=",
          "dtype": "f8"
         }
        },
        {
         "hovertemplate": "%{x}<br>Count: %{y}<br>Percentage: %{text:.2f}%",
         "marker": {
          "color": "royalblue"
         },
         "text": {
          "bdata": "pHA9CtejHUCF61G4HoUyQLgehetROEZApHA9CtejHUC4HoXrUTgmQKRwPQrXox1AmpmZmZmZDUA=",
          "dtype": "f8"
         },
         "textposition": "auto",
         "type": "bar",
         "x": [
          "$10M-$50M",
          "$50M-$100M",
          "$100M-$500M",
          "$500M-$1B",
          "$1B-$5B",
          "$5B-$10B",
          "$10B-$50B"
         ],
         "xaxis": "x",
         "y": {
          "bdata": "AgUMAgMCAQ==",
          "dtype": "i1"
         },
         "yaxis": "y"
        }
       ],
       "layout": {
        "annotations": [
         {
          "font": {
           "size": 16
          },
          "showarrow": false,
          "text": "Market Cap Distribution (%)",
          "x": 0.225,
          "xanchor": "center",
          "xref": "paper",
          "y": 1,
          "yanchor": "bottom",
          "yref": "paper"
         },
         {
          "font": {
           "size": 16
          },
          "showarrow": false,
          "text": "Number of Coins by Market Cap",
          "x": 0.775,
          "xanchor": "center",
          "xref": "paper",
          "y": 1,
          "yanchor": "bottom",
          "yref": "paper"
         }
        ],
        "height": 600,
        "legend": {
         "orientation": "h",
         "x": 1,
         "xanchor": "right",
         "y": 1.02,
         "yanchor": "bottom"
        },
        "showlegend": true,
        "template": {
         "data": {
          "bar": [
           {
            "error_x": {
             "color": "#2a3f5f"
            },
            "error_y": {
             "color": "#2a3f5f"
            },
            "marker": {
             "line": {
              "color": "#E5ECF6",
              "width": 0.5
             },
             "pattern": {
              "fillmode": "overlay",
              "size": 10,
              "solidity": 0.2
             }
            },
            "type": "bar"
           }
          ],
          "barpolar": [
           {
            "marker": {
             "line": {
              "color": "#E5ECF6",
              "width": 0.5
             },
             "pattern": {
              "fillmode": "overlay",
              "size": 10,
              "solidity": 0.2
             }
            },
            "type": "barpolar"
           }
          ],
          "carpet": [
           {
            "aaxis": {
             "endlinecolor": "#2a3f5f",
             "gridcolor": "white",
             "linecolor": "white",
             "minorgridcolor": "white",
             "startlinecolor": "#2a3f5f"
            },
            "baxis": {
             "endlinecolor": "#2a3f5f",
             "gridcolor": "white",
             "linecolor": "white",
             "minorgridcolor": "white",
             "startlinecolor": "#2a3f5f"
            },
            "type": "carpet"
           }
          ],
          "choropleth": [
           {
            "colorbar": {
             "outlinewidth": 0,
             "ticks": ""
            },
            "type": "choropleth"
           }
          ],
          "contour": [
           {
            "colorbar": {
             "outlinewidth": 0,
             "ticks": ""
            },
            "colorscale": [
             [
              0,
              "#0d0887"
             ],
             [
              0.1111111111111111,
              "#46039f"
             ],
             [
              0.2222222222222222,
              "#7201a8"
             ],
             [
              0.3333333333333333,
              "#9c179e"
             ],
             [
              0.4444444444444444,
              "#bd3786"
             ],
             [
              0.5555555555555556,
              "#d8576b"
             ],
             [
              0.6666666666666666,
              "#ed7953"
             ],
             [
              0.7777777777777778,
              "#fb9f3a"
             ],
             [
              0.8888888888888888,
              "#fdca26"
             ],
             [
              1,
              "#f0f921"
             ]
            ],
            "type": "contour"
           }
          ],
          "contourcarpet": [
           {
            "colorbar": {
             "outlinewidth": 0,
             "ticks": ""
            },
            "type": "contourcarpet"
           }
          ],
          "heatmap": [
           {
            "colorbar": {
             "outlinewidth": 0,
             "ticks": ""
            },
            "colorscale": [
             [
              0,
              "#0d0887"
             ],
             [
              0.1111111111111111,
              "#46039f"
             ],
             [
              0.2222222222222222,
              "#7201a8"
             ],
             [
              0.3333333333333333,
              "#9c179e"
             ],
             [
              0.4444444444444444,
              "#bd3786"
             ],
             [
              0.5555555555555556,
              "#d8576b"
             ],
             [
              0.6666666666666666,
              "#ed7953"
             ],
             [
              0.7777777777777778,
              "#fb9f3a"
             ],
             [
              0.8888888888888888,
              "#fdca26"
             ],
             [
              1,
              "#f0f921"
             ]
            ],
            "type": "heatmap"
           }
          ],
          "histogram": [
           {
            "marker": {
             "pattern": {
              "fillmode": "overlay",
              "size": 10,
              "solidity": 0.2
             }
            },
            "type": "histogram"
           }
          ],
          "histogram2d": [
           {
            "colorbar": {
             "outlinewidth": 0,
             "ticks": ""
            },
            "colorscale": [
             [
              0,
              "#0d0887"
             ],
             [
              0.1111111111111111,
              "#46039f"
             ],
             [
              0.2222222222222222,
              "#7201a8"
             ],
             [
              0.3333333333333333,
              "#9c179e"
             ],
             [
              0.4444444444444444,
              "#bd3786"
             ],
             [
              0.5555555555555556,
              "#d8576b"
             ],
             [
              0.6666666666666666,
              "#ed7953"
             ],
             [
              0.7777777777777778,
              "#fb9f3a"
             ],
             [
              0.8888888888888888,
              "#fdca26"
             ],
             [
              1,
              "#f0f921"
             ]
            ],
            "type": "histogram2d"
           }
          ],
          "histogram2dcontour": [
           {
            "colorbar": {
             "outlinewidth": 0,
             "ticks": ""
            },
            "colorscale": [
             [
              0,
              "#0d0887"
             ],
             [
              0.1111111111111111,
              "#46039f"
             ],
             [
              0.2222222222222222,
              "#7201a8"
             ],
             [
              0.3333333333333333,
              "#9c179e"
             ],
             [
              0.4444444444444444,
              "#bd3786"
             ],
             [
              0.5555555555555556,
              "#d8576b"
             ],
             [
              0.6666666666666666,
              "#ed7953"
             ],
             [
              0.7777777777777778,
              "#fb9f3a"
             ],
             [
              0.8888888888888888,
              "#fdca26"
             ],
             [
              1,
              "#f0f921"
             ]
            ],
            "type": "histogram2dcontour"
           }
          ],
          "mesh3d": [
           {
            "colorbar": {
             "outlinewidth": 0,
             "ticks": ""
            },
            "type": "mesh3d"
           }
          ],
          "parcoords": [
           {
            "line": {
             "colorbar": {
              "outlinewidth": 0,
              "ticks": ""
             }
            },
            "type": "parcoords"
           }
          ],
          "pie": [
           {
            "automargin": true,
            "type": "pie"
           }
          ],
          "scatter": [
           {
            "fillpattern": {
             "fillmode": "overlay",
             "size": 10,
             "solidity": 0.2
            },
            "type": "scatter"
           }
          ],
          "scatter3d": [
           {
            "line": {
             "colorbar": {
              "outlinewidth": 0,
              "ticks": ""
             }
            },
            "marker": {
             "colorbar": {
              "outlinewidth": 0,
              "ticks": ""
             }
            },
            "type": "scatter3d"
           }
          ],
          "scattercarpet": [
           {
            "marker": {
             "colorbar": {
              "outlinewidth": 0,
              "ticks": ""
             }
            },
            "type": "scattercarpet"
           }
          ],
          "scattergeo": [
           {
            "marker": {
             "colorbar": {
              "outlinewidth": 0,
              "ticks": ""
             }
            },
            "type": "scattergeo"
           }
          ],
          "scattergl": [
           {
            "marker": {
             "colorbar": {
              "outlinewidth": 0,
              "ticks": ""
             }
            },
            "type": "scattergl"
           }
          ],
          "scattermap": [
           {
            "marker": {
             "colorbar": {
              "outlinewidth": 0,
              "ticks": ""
             }
            },
            "type": "scattermap"
           }
          ],
          "scattermapbox": [
           {
            "marker": {
             "colorbar": {
              "outlinewidth": 0,
              "ticks": ""
             }
            },
            "type": "scattermapbox"
           }
          ],
          "scatterpolar": [
           {
            "marker": {
             "colorbar": {
              "outlinewidth": 0,
              "ticks": ""
             }
            },
            "type": "scatterpolar"
           }
          ],
          "scatterpolargl": [
           {
            "marker": {
             "colorbar": {
              "outlinewidth": 0,
              "ticks": ""
             }
            },
            "type": "scatterpolargl"
           }
          ],
          "scatterternary": [
           {
            "marker": {
             "colorbar": {
              "outlinewidth": 0,
              "ticks": ""
             }
            },
            "type": "scatterternary"
           }
          ],
          "surface": [
           {
            "colorbar": {
             "outlinewidth": 0,
             "ticks": ""
            },
            "colorscale": [
             [
              0,
              "#0d0887"
             ],
             [
              0.1111111111111111,
              "#46039f"
             ],
             [
              0.2222222222222222,
              "#7201a8"
             ],
             [
              0.3333333333333333,
              "#9c179e"
             ],
             [
              0.4444444444444444,
              "#bd3786"
             ],
             [
              0.5555555555555556,
              "#d8576b"
             ],
             [
              0.6666666666666666,
              "#ed7953"
             ],
             [
              0.7777777777777778,
              "#fb9f3a"
             ],
             [
              0.8888888888888888,
              "#fdca26"
             ],
             [
              1,
              "#f0f921"
             ]
            ],
            "type": "surface"
           }
          ],
          "table": [
           {
            "cells": {
             "fill": {
              "color": "#EBF0F8"
             },
             "line": {
              "color": "white"
             }
            },
            "header": {
             "fill": {
              "color": "#C8D4E3"
             },
             "line": {
              "color": "white"
             }
            },
            "type": "table"
           }
          ]
         },
         "layout": {
          "annotationdefaults": {
           "arrowcolor": "#2a3f5f",
           "arrowhead": 0,
           "arrowwidth": 1
          },
          "autotypenumbers": "strict",
          "coloraxis": {
           "colorbar": {
            "outlinewidth": 0,
            "ticks": ""
           }
          },
          "colorscale": {
           "diverging": [
            [
             0,
             "#8e0152"
            ],
            [
             0.1,
             "#c51b7d"
            ],
            [
             0.2,
             "#de77ae"
            ],
            [
             0.3,
             "#f1b6da"
            ],
            [
             0.4,
             "#fde0ef"
            ],
            [
             0.5,
             "#f7f7f7"
            ],
            [
             0.6,
             "#e6f5d0"
            ],
            [
             0.7,
             "#b8e186"
            ],
            [
             0.8,
             "#7fbc41"
            ],
            [
             0.9,
             "#4d9221"
            ],
            [
             1,
             "#276419"
            ]
           ],
           "sequential": [
            [
             0,
             "#0d0887"
            ],
            [
             0.1111111111111111,
             "#46039f"
            ],
            [
             0.2222222222222222,
             "#7201a8"
            ],
            [
             0.3333333333333333,
             "#9c179e"
            ],
            [
             0.4444444444444444,
             "#bd3786"
            ],
            [
             0.5555555555555556,
             "#d8576b"
            ],
            [
             0.6666666666666666,
             "#ed7953"
            ],
            [
             0.7777777777777778,
             "#fb9f3a"
            ],
            [
             0.8888888888888888,
             "#fdca26"
            ],
            [
             1,
             "#f0f921"
            ]
           ],
           "sequentialminus": [
            [
             0,
             "#0d0887"
            ],
            [
             0.1111111111111111,
             "#46039f"
            ],
            [
             0.2222222222222222,
             "#7201a8"
            ],
            [
             0.3333333333333333,
             "#9c179e"
            ],
            [
             0.4444444444444444,
             "#bd3786"
            ],
            [
             0.5555555555555556,
             "#d8576b"
            ],
            [
             0.6666666666666666,
             "#ed7953"
            ],
            [
             0.7777777777777778,
             "#fb9f3a"
            ],
            [
             0.8888888888888888,
             "#fdca26"
            ],
            [
             1,
             "#f0f921"
            ]
           ]
          },
          "colorway": [
           "#636efa",
           "#EF553B",
           "#00cc96",
           "#ab63fa",
           "#FFA15A",
           "#19d3f3",
           "#FF6692",
           "#B6E880",
           "#FF97FF",
           "#FECB52"
          ],
          "font": {
           "color": "#2a3f5f"
          },
          "geo": {
           "bgcolor": "white",
           "lakecolor": "white",
           "landcolor": "#E5ECF6",
           "showlakes": true,
           "showland": true,
           "subunitcolor": "white"
          },
          "hoverlabel": {
           "align": "left"
          },
          "hovermode": "closest",
          "mapbox": {
           "style": "light"
          },
          "paper_bgcolor": "white",
          "plot_bgcolor": "#E5ECF6",
          "polar": {
           "angularaxis": {
            "gridcolor": "white",
            "linecolor": "white",
            "ticks": ""
           },
           "bgcolor": "#E5ECF6",
           "radialaxis": {
            "gridcolor": "white",
            "linecolor": "white",
            "ticks": ""
           }
          },
          "scene": {
           "xaxis": {
            "backgroundcolor": "#E5ECF6",
            "gridcolor": "white",
            "gridwidth": 2,
            "linecolor": "white",
            "showbackground": true,
            "ticks": "",
            "zerolinecolor": "white"
           },
           "yaxis": {
            "backgroundcolor": "#E5ECF6",
            "gridcolor": "white",
            "gridwidth": 2,
            "linecolor": "white",
            "showbackground": true,
            "ticks": "",
            "zerolinecolor": "white"
           },
           "zaxis": {
            "backgroundcolor": "#E5ECF6",
            "gridcolor": "white",
            "gridwidth": 2,
            "linecolor": "white",
            "showbackground": true,
            "ticks": "",
            "zerolinecolor": "white"
           }
          },
          "shapedefaults": {
           "line": {
            "color": "#2a3f5f"
           }
          },
          "ternary": {
           "aaxis": {
            "gridcolor": "white",
            "linecolor": "white",
            "ticks": ""
           },
           "baxis": {
            "gridcolor": "white",
            "linecolor": "white",
            "ticks": ""
           },
           "bgcolor": "#E5ECF6",
           "caxis": {
            "gridcolor": "white",
            "linecolor": "white",
            "ticks": ""
           }
          },
          "title": {
           "x": 0.05
          },
          "xaxis": {
           "automargin": true,
           "gridcolor": "white",
           "linecolor": "white",
           "ticks": "",
           "title": {
            "standoff": 15
           },
           "zerolinecolor": "white",
           "zerolinewidth": 2
          },
          "yaxis": {
           "automargin": true,
           "gridcolor": "white",
           "linecolor": "white",
           "ticks": "",
           "title": {
            "standoff": 15
           },
           "zerolinecolor": "white",
           "zerolinewidth": 2
          }
         }
        },
        "title": {
         "text": "Market Cap Distribution for Meme Coins"
        },
        "width": 1200,
        "xaxis": {
         "anchor": "y",
         "domain": [
          0.55,
          1
         ]
        },
        "yaxis": {
         "anchor": "x",
         "domain": [
          0,
          1
         ]
        }
       }
      }
     },
     "metadata": {},
     "output_type": "display_data"
    },
    {
     "data": {
      "text/html": [
       "<div>\n",
       "<style scoped>\n",
       "    .dataframe tbody tr th:only-of-type {\n",
       "        vertical-align: middle;\n",
       "    }\n",
       "\n",
       "    .dataframe tbody tr th {\n",
       "        vertical-align: top;\n",
       "    }\n",
       "\n",
       "    .dataframe thead th {\n",
       "        text-align: right;\n",
       "    }\n",
       "</style>\n",
       "<table border=\"1\" class=\"dataframe\">\n",
       "  <thead>\n",
       "    <tr style=\"text-align: right;\">\n",
       "      <th></th>\n",
       "      <th>Market Cap Category</th>\n",
       "      <th>Count</th>\n",
       "      <th>Percentage</th>\n",
       "    </tr>\n",
       "  </thead>\n",
       "  <tbody>\n",
       "    <tr>\n",
       "      <th>2</th>\n",
       "      <td>$10M-$50M</td>\n",
       "      <td>2</td>\n",
       "      <td>7.41</td>\n",
       "    </tr>\n",
       "    <tr>\n",
       "      <th>5</th>\n",
       "      <td>$50M-$100M</td>\n",
       "      <td>5</td>\n",
       "      <td>18.52</td>\n",
       "    </tr>\n",
       "    <tr>\n",
       "      <th>0</th>\n",
       "      <td>$100M-$500M</td>\n",
       "      <td>12</td>\n",
       "      <td>44.44</td>\n",
       "    </tr>\n",
       "    <tr>\n",
       "      <th>4</th>\n",
       "      <td>$500M-$1B</td>\n",
       "      <td>2</td>\n",
       "      <td>7.41</td>\n",
       "    </tr>\n",
       "    <tr>\n",
       "      <th>3</th>\n",
       "      <td>$1B-$5B</td>\n",
       "      <td>3</td>\n",
       "      <td>11.11</td>\n",
       "    </tr>\n",
       "    <tr>\n",
       "      <th>6</th>\n",
       "      <td>$5B-$10B</td>\n",
       "      <td>2</td>\n",
       "      <td>7.41</td>\n",
       "    </tr>\n",
       "    <tr>\n",
       "      <th>1</th>\n",
       "      <td>$10B-$50B</td>\n",
       "      <td>1</td>\n",
       "      <td>3.70</td>\n",
       "    </tr>\n",
       "  </tbody>\n",
       "</table>\n",
       "</div>"
      ],
      "text/plain": [
       "  Market Cap Category  Count  Percentage\n",
       "2           $10M-$50M      2        7.41\n",
       "5          $50M-$100M      5       18.52\n",
       "0         $100M-$500M     12       44.44\n",
       "4           $500M-$1B      2        7.41\n",
       "3             $1B-$5B      3       11.11\n",
       "6            $5B-$10B      2        7.41\n",
       "1           $10B-$50B      1        3.70"
      ]
     },
     "metadata": {},
     "output_type": "display_data"
    }
   ],
   "source": [
    "# Create a function to analyze market cap distribution for any tag\n",
    "def analyze_market_cap_distribution(tag=None, coins_df=get_coins_data()):\n",
    "    \"\"\"\n",
    "    Analyze the market cap distribution of coins in a specific tag category.\n",
    "    \n",
    "    Parameters:\n",
    "    - tag: The tag category to analyze (e.g., 'Tag_Seed', 'Tag_Meme')\n",
    "    - coins_df: DataFrame containing coin data\n",
    "    \n",
    "    Returns:\n",
    "    - DataFrame with market cap distribution analysis\n",
    "    \"\"\"\n",
    "    # Filter by tag if specified\n",
    "    if tag:\n",
    "        filtered_df = coins_df[coins_df[tag] == True].copy()\n",
    "    else:\n",
    "        filtered_df = coins_df.copy()\n",
    "    \n",
    "    # Define market cap thresholds\n",
    "    thresholds = [\n",
    "        (0, 1_000_000, '<$1M'),\n",
    "        (1_000_000, 10_000_000, '$1M-$10M'),\n",
    "        (10_000_000, 50_000_000, '$10M-$50M'),\n",
    "        (50_000_000, 100_000_000, '$50M-$100M'),\n",
    "        (100_000_000, 500_000_000, '$100M-$500M'),\n",
    "        (500_000_000, 1_000_000_000, '$500M-$1B'),\n",
    "        (1_000_000_000, 5_000_000_000, '$1B-$5B'),\n",
    "        (5_000_000_000, 10_000_000_000, '$5B-$10B'),\n",
    "        (10_000_000_000, 50_000_000_000, '$10B-$50B'),\n",
    "        (50_000_000_000, float('inf'), '>$50B')\n",
    "    ]\n",
    "    \n",
    "    # Categorize coins by market cap\n",
    "    def categorize_market_cap(cap):\n",
    "        for low, high, label in thresholds:\n",
    "            if low <= cap < high:\n",
    "                return label\n",
    "        return '>$10B'  # Default for very large caps\n",
    "    \n",
    "    filtered_df['Market Cap Category'] = filtered_df['Market Cap'].apply(categorize_market_cap)\n",
    "    \n",
    "    # Count coins in each category\n",
    "    distribution = filtered_df.groupby('Market Cap Category').size().reset_index(name='Count')\n",
    "    \n",
    "    # Calculate percentages\n",
    "    total_coins = distribution['Count'].sum()\n",
    "    distribution['Percentage'] = (distribution['Count'] / total_coins * 100).round(2)\n",
    "    \n",
    "    # Ensure the categories are in the right order\n",
    "    category_order = ['<$1M', '$1M-$10M', '$10M-$50M', '$50M-$100M', '$100M-$500M', '$500M-$1B', '$1B-$5B', '$5B-$10B', '$10B-$50B', '>$50B']\n",
    "    distribution['Market Cap Category'] = pd.Categorical(\n",
    "        distribution['Market Cap Category'], \n",
    "        categories=category_order, \n",
    "        ordered=True\n",
    "    )\n",
    "    distribution = distribution.sort_values('Market Cap Category')\n",
    "    \n",
    "    return distribution, filtered_df\n",
    "\n",
    "# Create interactive widgets for tag selection\n",
    "import ipywidgets as widgets\n",
    "from IPython.display import display\n",
    "\n",
    "# Get all tag columns\n",
    "tag_columns = [col for col in get_coins_data().columns if col.startswith('Tag_')]\n",
    "tag_options = [None] + tag_columns  # Add None option for all coins\n",
    "\n",
    "# Create dropdown for tag selection\n",
    "tag_dropdown = widgets.Dropdown(\n",
    "    options=tag_options,\n",
    "    description='Category:',\n",
    "    value=tag_options[1]  # Default to first tag\n",
    ")\n",
    "\n",
    "# Function to update visualizations based on selected tag\n",
    "def update_visualizations(tag):\n",
    "    distribution, filtered_df = analyze_market_cap_distribution(tag)\n",
    "    \n",
    "    # Create a figure with subplots\n",
    "    fig = make_subplots(\n",
    "        rows=1, cols=2,\n",
    "        specs=[[{\"type\": \"pie\"}, {\"type\": \"bar\"}]],\n",
    "        subplot_titles=(\"Market Cap Distribution (%)\", \"Number of Coins by Market Cap\")\n",
    "    )\n",
    "    \n",
    "    # Add pie chart\n",
    "    fig.add_trace(\n",
    "        go.Pie(\n",
    "            labels=distribution['Market Cap Category'],\n",
    "            values=distribution['Percentage'],\n",
    "            textinfo='label+percent',\n",
    "            hoverinfo='label+percent+value',\n",
    "            marker=dict(line=dict(color='#000000', width=1)),\n",
    "            hole=0.4\n",
    "        ),\n",
    "        row=1, col=1\n",
    "    )\n",
    "    \n",
    "    # Add bar chart\n",
    "    fig.add_trace(\n",
    "        go.Bar(\n",
    "            x=distribution['Market Cap Category'],\n",
    "            y=distribution['Count'],\n",
    "            text=distribution['Percentage'],\n",
    "            textposition='auto',\n",
    "            hovertemplate='%{x}<br>Count: %{y}<br>Percentage: %{text:.2f}%',\n",
    "            marker_color='royalblue'\n",
    "        ),\n",
    "        row=1, col=2\n",
    "    )\n",
    "    \n",
    "    # Update layout\n",
    "    title_text = f\"Market Cap Distribution for {tag.replace('Tag_', '')} Coins\" if tag else \"Market Cap Distribution for All Coins\"\n",
    "    fig.update_layout(\n",
    "        title_text=title_text,\n",
    "        height=600,\n",
    "        width=1200,\n",
    "        showlegend=True,\n",
    "        legend=dict(orientation=\"h\", yanchor=\"bottom\", y=1.02, xanchor=\"right\", x=1)\n",
    "    )\n",
    "    \n",
    "    # Display the figure\n",
    "    fig.show();\n",
    "    \n",
    "    # Display the distribution table\n",
    "    display(distribution)\n",
    "\n",
    "# Create interactive widget\n",
    "interactive_plot = widgets.interactive(update_visualizations, tag=tag_dropdown)\n",
    "display(interactive_plot);\n",
    "\n",
    "# Initialize with default tag\n",
    "update_visualizations(tag_options[1]);"
   ]
  },
  {
   "cell_type": "code",
   "execution_count": null,
   "metadata": {},
   "outputs": [],
   "source": [
    "analysis_df = final_df[[\n",
    "    'dateTime',\n",
    "    'Coin',\n",
    "    'Market Cap'\n",
    "]+tag_columns]\n",
    "seed_df = analysis_df[analysis_df['Tag_Seed'] == True]\n",
    "coin = seed_df[seed_df['Coin'] == 'OM']\n",
    "# Use .loc to avoid SettingWithCopyWarning\n",
    "# Create a copy of the dataframe to avoid SettingWithCopyWarning\n",
    "coin = coin.copy()\n",
    "coin.loc[:, 'Next Market Cap'] = coin.loc[:, 'Market Cap'].shift(-1)\n",
    "coin = coin[['dateTime','Market Cap','Next Market Cap']]\n",
    "coin['is_Billion'] = coin['Market Cap'] > 1_000_000_000\n",
    "coin.loc[:,'next_is_Billion'] = coin['Next Market Cap'] > 1_000_000_000\n",
    "# Concatenate is_Billion and next_is_Billion columns\n",
    "coin.dropna(inplace=True)\n",
    "coin['is_Billion'] = coin['is_Billion'].astype(str) + '->' + coin['next_is_Billion'].astype(str)\n",
    "coin[coin.is_Billion.isin(['True->False','False->True'])]"
   ]
  },
  {
   "cell_type": "markdown",
   "metadata": {},
   "source": [
    "## De-BTCing"
   ]
  },
  {
   "cell_type": "code",
   "execution_count": null,
   "metadata": {},
   "outputs": [],
   "source": [
    "import warnings\n",
    "import pandas as pd\n",
    "import numpy as np\n",
    "from tqdm import tqdm\n",
    "warnings.filterwarnings('ignore')\n",
    "\n",
    "df = pd.read_csv('history.csv')\n",
    "df = df[['Coin','dateTime','open','close']]\n",
    "final_df = pd.DataFrame()\n",
    "for coin in tqdm(df['Coin'].unique(), desc=\"Processing coins\"):\n",
    "    temp_df = df[df.Coin == coin]\n",
    "    temp_df['open_pct'] = np.round(temp_df['open'].pct_change()*100,2)\n",
    "    temp_df['close_pct'] = np.round(temp_df['close'].pct_change()*100,2)\n",
    "    # Apply moving average smoothing to percentage changes\n",
    "    # Default window size of 7 days for weekly smoothing\n",
    "    window_size = 7\n",
    "    \n",
    "    # Create smoothed versions of the percentage changes\n",
    "    temp_df['open_pct_smooth'] = temp_df['open_pct'].rolling(window=window_size, min_periods=1).mean()\n",
    "    temp_df['close_pct_smooth'] = temp_df['close_pct'].rolling(window=window_size, min_periods=1).mean()\n",
    "    \n",
    "    # Fill any NaN values that might be created at the beginning of the series\n",
    "    temp_df['open_pct_smooth'] = temp_df['open_pct_smooth'].fillna(temp_df['open_pct'])\n",
    "    temp_df['close_pct_smooth'] = temp_df['close_pct_smooth'].fillna(temp_df['close_pct'])\n",
    "    final_df = pd.concat([final_df, temp_df])\n",
    "\n",
    "    "
   ]
  },
  {
   "cell_type": "code",
   "execution_count": null,
   "metadata": {},
   "outputs": [],
   "source": [
    "import matplotlib.pyplot as plt\n",
    "import matplotlib.dates as mdates\n",
    "from datetime import datetime\n",
    "import seaborn as sns\n",
    "\n",
    "# Clean data\n",
    "final_df = final_df.dropna()\n",
    "analysis = final_df.copy()\n",
    "n_days = 365\n",
    "\n",
    "# Extract BTC data\n",
    "btc = analysis[analysis.Coin == 'BTCUSDT']\n",
    "btc.drop(columns=['Coin', 'open', 'close'], inplace=True)\n",
    "\n",
    "# Extract non-BTC data\n",
    "nonbtc = analysis[~(analysis.Coin == 'BTCUSDT')].drop(columns=['open', 'close'])\n",
    "\n",
    "# Merge datasets\n",
    "joined = nonbtc.merge(btc, on='dateTime', suffixes=['', '_btc'])\n",
    "\n",
    "\n",
    "\n",
    "# Calculate BTC-independent price movements\n",
    "joined['de_btcfied_open'] = joined['open_pct'] - joined['open_pct_btc']\n",
    "joined['de_btcfied_close'] = joined['close_pct_smooth'] - joined['close_pct_smooth_btc']\n",
    "\n",
    "\n",
    "\n",
    "\n",
    "# Plot improved charts\n",
    "plt.style.use('seaborn-v0_8-darkgrid')\n",
    "\n",
    "# Create a single figure and axes\n",
    "fig, ax = plt.subplots(figsize=(10, 6))\n",
    "\n",
    "# Selected coins to plot\n",
    "selected_coins = [i for i in joined.Coin.unique() if joined.tail(n_days)[joined.Coin == i]['de_btcfied_close'].mean() > 0]\n",
    "# Filter out coins with less than 10 datapoints\n",
    "coin_counts = joined.groupby('Coin').size()\n",
    "coins_with_enough_data = coin_counts[coin_counts >= 10].index.tolist()\n",
    "\n",
    "# Only keep coins that have enough data points\n",
    "selected_coins = [coin for coin in selected_coins if coin in coins_with_enough_data]\n",
    "\n",
    "# Print the number of coins before and after filtering\n",
    "print(f\"Coins before filtering: {len([i for i in joined.Coin.unique() if joined.tail(n_days)[joined.Coin == i]['de_btcfied_close'].mean() > 0.1])}\")\n",
    "print(f\"Coins after filtering (min 10 datapoints): {len(selected_coins)}\")\n",
    "\n",
    "# Plot each coin on the same axes\n",
    "for coin in selected_coins:\n",
    "    plotdata = joined[joined.Coin == coin].tail(n_days)\n",
    "    \n",
    "    # Convert dateTime to datetime if it's not already\n",
    "    if not pd.api.types.is_datetime64_any_dtype(plotdata['dateTime']):\n",
    "        plotdata['dateTime'] = pd.to_datetime(plotdata['dateTime'])\n",
    "    \n",
    "    # Plot with label for legend\n",
    "    ax.plot(plotdata['dateTime'], plotdata['de_btcfied_close'], linewidth=2, label=coin)\n",
    "\n",
    "# Improve formatting\n",
    "ax.set_title(f'BTC-Independent Price Movement Comparison', fontsize=14)\n",
    "ax.set_xlabel('Date', fontsize=12)\n",
    "ax.set_ylabel('De-BTCfied Close (%)', fontsize=12)\n",
    "\n",
    "# Format x-axis dates\n",
    "ax.xaxis.set_major_formatter(mdates.DateFormatter('%Y-%m-%d'))\n",
    "plt.xticks(rotation=45)\n",
    "\n",
    "# Add legend\n",
    "ax.legend(title='Coins', loc='best')\n",
    "\n",
    "# Add grid and tight layout\n",
    "plt.grid(True, alpha=0.3)\n",
    "plt.tight_layout()"
   ]
  },
  {
   "cell_type": "code",
   "execution_count": null,
   "metadata": {},
   "outputs": [],
   "source": [
    "# Create a new figure for the bell curves (normal distribution plots)\n",
    "plt.figure(figsize=(10, 6))\n",
    "\n",
    "# For each selected coin, plot its distribution\n",
    "for coin in selected_coins:\n",
    "    # Get the data for this coin\n",
    "    coin_data = joined[joined.Coin == coin]['de_btcfied_close'].dropna().tail(n_days)\n",
    "    plt.hist(coin_data, bins=5, alpha=0.5, label=coin, density=True)\n",
    "\n",
    "# Improve formatting\n",
    "plt.title('Distribution of BTC-Independent Price Movements', fontsize=14)\n",
    "plt.xlabel('De-BTCfied Close (%)', fontsize=12)\n",
    "plt.ylabel('Density', fontsize=12)\n",
    "\n",
    "# Add legend\n",
    "plt.legend(title='Coins', loc='best')\n",
    "\n",
    "# Add grid and tight layout\n",
    "plt.grid(True, alpha=0.3)\n",
    "plt.tight_layout()\n",
    "\n",
    "# Show the plot\n",
    "plt.show()\n"
   ]
  }
 ],
 "metadata": {
  "kernelspec": {
   "display_name": "pymc_env",
   "language": "python",
   "name": "python3"
  },
  "language_info": {
   "codemirror_mode": {
    "name": "ipython",
    "version": 3
   },
   "file_extension": ".py",
   "mimetype": "text/x-python",
   "name": "python",
   "nbconvert_exporter": "python",
   "pygments_lexer": "ipython3",
   "version": "3.11.11"
  }
 },
 "nbformat": 4,
 "nbformat_minor": 2
}
