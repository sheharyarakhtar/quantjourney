{
 "cells": [
  {
   "cell_type": "code",
   "execution_count": 4,
   "id": "9d508349",
   "metadata": {},
   "outputs": [],
   "source": [
    "import pandas as pd\n",
    "import numpy as np\n",
    "import matplotlib.pyplot as plt"
   ]
  },
  {
   "cell_type": "code",
   "execution_count": null,
   "id": "409a3224",
   "metadata": {},
   "outputs": [],
   "source": [
    "\n",
    "\n",
    "\n",
    "# Example usage:"
   ]
  },
  {
   "cell_type": "code",
   "execution_count": null,
   "id": "a426b725",
   "metadata": {},
   "outputs": [],
   "source": [
    "\n",
    "def create_rectangle(init_point = [0,0], height = 10,width = 10):\n",
    "    x0 = init_point\n",
    "    x1 = [init_point[0],init_point[1]+height]\n",
    "    x2 = [init_point[0]+width, init_point[1]+height]\n",
    "    x3 = [init_point[0]+width, init_point[1]]\n",
    "    return [x0,x1,x2,x3]\n",
    "\n",
    "\n",
    "def safe_zone_coords(image_shape):\n",
    "    height = image_shape[1][1] - image_shape[0][1]\n",
    "    width = image_shape[3][0] - image_shape[0][0]\n",
    "    top = height*5/100\n",
    "    bottom = height*15/100\n",
    "    left = width*5/100\n",
    "    right = width*10/100\n",
    "    init_point = image_shape[0]\n",
    "    init_point = [init_point[0]+left, init_point[1]+bottom]\n",
    "    new_height = height-top-bottom\n",
    "    new_width = width-left-right\n",
    "    return create_rectangle(init_point, new_height, new_width)\n",
    "def plot_boxes(*args):\n",
    "    \"\"\"\n",
    "    Plots multiple boxes given coordinates of their vertices.\n",
    "\n",
    "    Parameters:\n",
    "        *args (list of lists): Variable number of lists containing coordinates of the box vertices.\n",
    "\n",
    "    Returns:\n",
    "        None\n",
    "    \"\"\"\n",
    "    # Create a plot\n",
    "    fig, ax = plt.subplots()\n",
    "\n",
    "    for coordinates in args:\n",
    "        # Extract x and y coordinates from the input list\n",
    "        x_coords = [point[0] for point in coordinates]\n",
    "        y_coords = [point[1] for point in coordinates]\n",
    "\n",
    "        # Append the first point to the end to close the box\n",
    "        x_coords.append(x_coords[0])\n",
    "        y_coords.append(y_coords[0])\n",
    "\n",
    "        # Plot the box\n",
    "        ax.plot(x_coords, y_coords, color='b')  # Plot the box edges\n",
    "        ax.fill(x_coords, y_coords, color='b', alpha=0.3)  # Fill the box\n",
    "\n",
    "        # Add coordinate labels\n",
    "        for (x, y) in zip(x_coords[:-1], y_coords[:-1]):\n",
    "            ax.text(x, y, f'({x}, {y})', fontsize=8, ha='right')\n",
    "\n",
    "    # Set labels and title\n",
    "    ax.set_xlabel('X')\n",
    "    ax.set_ylabel('Y')\n",
    "    ax.set_title('Box Plot')\n",
    "\n",
    "    # Display the plot\n",
    "    plt.grid(True)\n",
    "    plt.axis('equal')  # Set equal aspect ratio\n",
    "    plt.show()\n",
    "image_shape = create_rectangle([0,0], 120,100)\n",
    "rec_box = create_rectangle([20,20],20,20)\n",
    "plot_boxes(rec_box, image_shape, safe_zone_coords(image_shape))\n",
    "safe_zone = safe_zone_coords(image_shape)"
   ]
  },
  {
   "cell_type": "code",
   "execution_count": null,
   "id": "11a5b1a0",
   "metadata": {},
   "outputs": [],
   "source": [
    "def find_area(coords):\n",
    "    \"\"\"\n",
    "    Calculates the area of a polygon given its coordinates using the Shoelace formula.\n",
    "\n",
    "    Parameters:\n",
    "        coords (list of lists): Coordinates of the vertices of the polygon.\n",
    "\n",
    "    Returns:\n",
    "        float: Area of the polygon.\n",
    "    \"\"\"\n",
    "    n = len(coords)\n",
    "    area = 0\n",
    "    for i in range(n):\n",
    "        j = (i + 1) % n\n",
    "        area += coords[i][0] * coords[j][1]\n",
    "        area -= coords[j][0] * coords[i][1]\n",
    "    area = abs(area) / 2.0\n",
    "    return area\n",
    "\n",
    "big_box = safe_zone\n",
    "little_boxes = [create_rectangle([20,20],40,30), create_rectangle([20,20],20,20)]\n",
    "box_num = 0\n",
    "box = little_boxes[box_num]\n",
    "\n",
    "def get_max_area_coords(big_box, little_box):    \n",
    "    ys_box = list(set(i[1] for i in box))\n",
    "    xs_box = list(set([i[0] for i in box]))\n",
    "    xs_box.sort()\n",
    "\n",
    "    xs_bb = list(set([i[0] for i in big_box]))\n",
    "    ys_bb = list(set([i[1] for i in big_box]))\n",
    "\n",
    "    ys = ys_bb+ys_box; ys.sort()\n",
    "\n",
    "    area = 0\n",
    "    for i in range(len(ys)-1):\n",
    "        area_box = [xs_bb[0],ys[i]], [xs_bb[0],ys[i+1]], [xs_bb[1],ys[i+1]], [xs_bb[1],ys[i]]\n",
    "        bb = list(set([i[1] for i in area_box]))\n",
    "        bb.sort()\n",
    "        if bb != xs_box:\n",
    "            temp_area = find_area(area_box)\n",
    "            if temp_area>area:\n",
    "                area = temp_area\n",
    "                coords = area_box\n",
    "        if bb==xs_box:\n",
    "            \n",
    "            \n",
    "        \n",
    "    return area, coords\n",
    "\n",
    "\n",
    "\n",
    "for box in little_boxes:\n",
    "    area, coords = get_max_area_coords(big_box,box)\n",
    "    plot_boxes(image_shape, coords, box )"
   ]
  },
  {
   "cell_type": "code",
   "execution_count": null,
   "id": "fe0728d6",
   "metadata": {},
   "outputs": [],
   "source": [
    "def find_diff(p1,p2):\n",
    "    h = abs(p2[1]-p1[1])\n",
    "    w = abs(p2[0]-p1[0])\n",
    "    return h*w\n",
    "    \n",
    "    \n",
    "safe_zone = safe_zone_coords(image_shape)\n",
    "box = rec_box\n",
    "\n",
    "area = 0\n",
    "\n",
    "for i in safe_zone:\n",
    "    for j in box:\n",
    "        temp_area = find_diff(i,j)\n",
    "        if temp_area>area:\n",
    "            coords = [i,j]\n",
    "            \n",
    "print(coords)    "
   ]
  },
  {
   "cell_type": "code",
   "execution_count": null,
   "id": "48fc439f",
   "metadata": {},
   "outputs": [],
   "source": []
  },
  {
   "cell_type": "code",
   "execution_count": null,
   "id": "f7dacbe2",
   "metadata": {},
   "outputs": [],
   "source": []
  },
  {
   "cell_type": "code",
   "execution_count": null,
   "id": "76b6f2c0",
   "metadata": {},
   "outputs": [],
   "source": []
  },
  {
   "cell_type": "code",
   "execution_count": 1,
   "id": "cc9ff0b1",
   "metadata": {},
   "outputs": [],
   "source": [
    "import matplotlib.pyplot as plt\n",
    "from matplotlib.patches import Polygon\n"
   ]
  },
  {
   "cell_type": "code",
   "execution_count": 1,
   "id": "33f265b7",
   "metadata": {},
   "outputs": [],
   "source": [
    "import pandas as pd\n",
    "import matplotlib.pyplot as plt\n",
    "import yfinance as yf\n",
    "BTC_Ticker = yf.Ticker(\"BTC-USD\")\n",
    "BTC_Data = BTC_Ticker.history(period=\"max\")"
   ]
  },
  {
   "cell_type": "code",
   "execution_count": null,
   "id": "eb4ad282",
   "metadata": {},
   "outputs": [],
   "source": []
  },
  {
   "cell_type": "code",
   "execution_count": null,
   "id": "1b82804e",
   "metadata": {},
   "outputs": [],
   "source": [
    "ticker = yf.Ticker('NMT-USD')\n",
    "data = ticker.history(period='max',interval = '1m')\n",
    "data.head()"
   ]
  },
  {
   "cell_type": "code",
   "execution_count": null,
   "id": "247d6a61",
   "metadata": {},
   "outputs": [],
   "source": [
    "data['PercentageChange'] = round(data.Open.pct_change()*100,3)\n",
    "data"
   ]
  },
  {
   "cell_type": "code",
   "execution_count": null,
   "id": "2ba60881",
   "metadata": {},
   "outputs": [],
   "source": []
  },
  {
   "cell_type": "code",
   "execution_count": null,
   "id": "edb442cc",
   "metadata": {},
   "outputs": [],
   "source": [
    "data['Close'] = data.Open.shift(-1)\n",
    "data['direction'] = data['Close'] - data['Open'] >=0\n",
    "data"
   ]
  },
  {
   "cell_type": "code",
   "execution_count": null,
   "id": "ca7a1b26",
   "metadata": {},
   "outputs": [],
   "source": [
    "\\"
   ]
  },
  {
   "cell_type": "code",
   "execution_count": null,
   "id": "be1bc7e7",
   "metadata": {},
   "outputs": [],
   "source": []
  },
  {
   "cell_type": "code",
   "execution_count": null,
   "id": "ac0cbb3a",
   "metadata": {},
   "outputs": [],
   "source": [
    "data['Date'] = data.index.strftime('%Y-%m-%d')\n",
    "highs = data.groupby('Date')[['High']].max()\n",
    "lows = data.groupby('Date')[['Low']].min()\n",
    "df =highs.merge(lows, on = 'Date')\n",
    "df['Change'] = (df['High'] - df['Low'])*100/df['Low']\n",
    "df"
   ]
  },
  {
   "cell_type": "code",
   "execution_count": null,
   "id": "70e1ad68",
   "metadata": {},
   "outputs": [],
   "source": [
    "!pip install requests_html"
   ]
  },
  {
   "cell_type": "code",
   "execution_count": 22,
   "id": "feaf8e98",
   "metadata": {},
   "outputs": [],
   "source": [
    "import requests\n",
    "# from requests_html import HTMLSession\n",
    "# session = HTMLSession()\n",
    "from bs4 import BeautifulSoup\n",
    "num_currencies=250\n",
    "resp = requests.get(f\"https://finance.yahoo.com/crypto?offset=0&count={num_currencies}\")\n"
   ]
  },
  {
   "cell_type": "code",
   "execution_count": null,
   "id": "08b13349-c762-4544-b911-4cc2a7bb6e44",
   "metadata": {},
   "outputs": [],
   "source": [
    "\n",
    "tables = pd.read_html(resp.text)\n",
    "df = tables[0].copy()\n",
    "symbols_yf = df.Symbol.tolist()\n",
    "symbols_yf"
   ]
  },
  {
   "cell_type": "code",
   "execution_count": 33,
   "id": "6b31fdef",
   "metadata": {},
   "outputs": [],
   "source": [
    "symbols = df.Symbol.unique()\n",
    "final_df = pd.DataFrame()\n",
    "for symbol in symbols:\n",
    "    ticker = yf.Ticker(symbol)\n",
    "    data = ticker.history(start = '2024-05-01', end= '2024-08-01', interval = '1d')\n",
    "    data['Symbol'] = symbol\n",
    "    final_df = pd.concat([final_df, data])\n"
   ]
  },
  {
   "cell_type": "code",
   "execution_count": null,
   "id": "ca708e50",
   "metadata": {},
   "outputs": [],
   "source": [
    "df = final_df.reset_index()[['Date','Symbol','Open']]\n",
    "df = df.pivot_table(columns = ['Symbol'], index = 'Date')\n",
    "df.columns = df.columns.get_level_values(1)\n",
    "df.corr()[['BTC-USD']].sort_values('BTC-USD', ascending = False).head(10)"
   ]
  },
  {
   "cell_type": "code",
   "execution_count": null,
   "id": "590f8c10",
   "metadata": {},
   "outputs": [],
   "source": [
    "import numpy as np\n",
    "df = final_df[['Symbol','Open']]\n",
    "df\n",
    "change = pd.DataFrame()\n",
    "for symbol in df.Symbol.unique():\n",
    "    temp = df[df.Symbol == symbol].drop(columns = 'Symbol')\n",
    "    temp['PctCh'] = round(temp['Open'].pct_change()*100,2)\n",
    "    temp['Symbol'] = symbol\n",
    "    change = pd.concat([change, temp])\n",
    "change = change.reset_index().drop(columns = 'Open').pivot_table(columns = 'Symbol', index = 'Date').dropna()\n",
    "change.columns = change.columns.get_level_values(1)\n",
    "diff = pd.DataFrame()\n",
    "for symbol in change.columns.unique():\n",
    "    temp = change[[symbol,'BTC-USD']]\n",
    "    rmse = np.sqrt(np.mean((temp['BTC-USD'] - temp[symbol])**2))\n",
    "    \n",
    "    difference = pd.DataFrame({'Symbol':[symbol],\n",
    "                        'RMSE':[rmse]})\n",
    "    diff = pd.concat([diff, difference])\n",
    "    \n",
    "change = change.corr()[['BTC-USD']].sort_values('BTC-USD', ascending = False).dropna().reset_index().merge(diff, on = ['Symbol'])\n",
    "change\n"
   ]
  },
  {
   "cell_type": "markdown",
   "id": "ef972658",
   "metadata": {},
   "source": [
    "introduce a lag into the temp dfs to see which coins jump right after btc jumps instead of looking at same timeframe correlation. Look at a leading correlatioon and rmse to see which alt coins will jump next\n"
   ]
  },
  {
   "cell_type": "code",
   "execution_count": null,
   "id": "fd1a297f",
   "metadata": {},
   "outputs": [],
   "source": []
  },
  {
   "cell_type": "code",
   "execution_count": null,
   "id": "d4307a04",
   "metadata": {},
   "outputs": [],
   "source": []
  },
  {
   "cell_type": "code",
   "execution_count": null,
   "id": "256f74d1",
   "metadata": {},
   "outputs": [],
   "source": [
    "# df['Change'] = df['% Change'].str.replace('%','').str.replace('+','').astype(float)\n",
    "df[df['Price (Intraday)']<0.09]\n",
    "small = df[df['Market Cap'].str.contains('M')]\n",
    "# Define a mapping dictionary for suffixes\n",
    "def convert_to_scientific(value):\n",
    "    suffixes = {'B': 1e9, 'M': 1e6,'T':1e12}\n",
    "    if value[-1] in suffixes:\n",
    "        return float(value[:-1]) * suffixes[value[-1]]\n",
    "    else:\n",
    "        return float(value)\n",
    "\n",
    "# Apply the function to the 'Circulating Supply' column and assign it to 'Supply'\n",
    "small['Supply'] = small['Circulating Supply'].apply(convert_to_scientific)\n",
    "small['ExpectedPrice'] = 1e9/small['Supply']\n",
    "small = small[small['Price (Intraday)']<small['ExpectedPrice']].head(14)\n",
    "small['Expected Increase'] = round(small['ExpectedPrice']*100/small['Price (Intraday)'],2)\n",
    "small[['Symbol','Name','Price (Intraday)','ExpectedPrice','Expected Increase', '% Change']]"
   ]
  },
  {
   "cell_type": "code",
   "execution_count": null,
   "id": "cf57d487",
   "metadata": {},
   "outputs": [],
   "source": []
  },
  {
   "cell_type": "code",
   "execution_count": 4,
   "id": "ea3c558c",
   "metadata": {},
   "outputs": [],
   "source": [
    "df['Supply'] = df['Circulating Supply'].apply(convert_to_scientific)\n",
    "df['Market Cap'] = df['Market Cap'].apply(convert_to_scientific)\n",
    "df =df[['Symbol','Name', 'Price (Intraday)','Market Cap','Supply']]\n"
   ]
  },
  {
   "cell_type": "code",
   "execution_count": null,
   "id": "db86d78d",
   "metadata": {},
   "outputs": [],
   "source": [
    "df['Expected'] = 1e9/df['Supply']\n",
    "df"
   ]
  },
  {
   "cell_type": "code",
   "execution_count": 2,
   "id": "98350f15",
   "metadata": {},
   "outputs": [],
   "source": [
    "def check_perc_change(x1, x2):\n",
    "    inc = (x2-x1)*100/x1\n",
    "    return inc\n"
   ]
  },
  {
   "cell_type": "code",
   "execution_count": 80,
   "id": "dca29687",
   "metadata": {},
   "outputs": [],
   "source": [
    "pendle = yf.Ticker('IOTX-USD')\n",
    "pendle = pendle.history(period = 'max')"
   ]
  },
  {
   "cell_type": "code",
   "execution_count": null,
   "id": "8dfe8ff4",
   "metadata": {},
   "outputs": [],
   "source": [
    "pendle[pendle.index >= '2024-01-01'][['Open','High','Low']].plot()"
   ]
  },
  {
   "cell_type": "code",
   "execution_count": null,
   "id": "04b92f2b",
   "metadata": {},
   "outputs": [],
   "source": [
    "import numpy as np\n",
    "from sklearn.linear_model import LinearRegression\n",
    "model = LinearRegression()\n",
    "pendle = pendle[pendle.index>'2024-01-01']\n",
    "pendle"
   ]
  },
  {
   "cell_type": "code",
   "execution_count": 25,
   "id": "d5e60f06",
   "metadata": {},
   "outputs": [],
   "source": [
    "from statsmodels.tsa.tsatools import detrend\n",
    "\n"
   ]
  },
  {
   "cell_type": "code",
   "execution_count": null,
   "id": "3c1c0c3d",
   "metadata": {},
   "outputs": [],
   "source": [
    "from math import pi\n",
    "detrended = detrend(pendle.Open, order=2)\n",
    "detrended = pd.DataFrame(detrended)\n",
    "\n",
    "x = 0.03\n",
    "detrended = detrended.reset_index().drop(columns = 'Date')\n",
    "detrended['pi'] = np.linspace(0,2*pi, len(detrended))\n",
    "detrended.set_index('pi', inplace = True)\n",
    "detrended['Sin'] = max(detrended.Open)*np.sin(np.linspace(0, 2*np.pi*10, len(detrended)))\n",
    "detrended.plot(figsize = (15,5), marker = 'o')\n",
    "\n"
   ]
  },
  {
   "cell_type": "code",
   "execution_count": null,
   "id": "20745a68",
   "metadata": {},
   "outputs": [],
   "source": [
    "trend = pendle.Open - detrended.values.flatten()  # Extracting the trend from the original series\n",
    "detrended_with_trend = pd.DataFrame(detrended.values + trend.values.reshape(-1, 1), index=pendle.index, columns=['Open'])\n"
   ]
  },
  {
   "cell_type": "code",
   "execution_count": null,
   "id": "972b66fb",
   "metadata": {},
   "outputs": [],
   "source": [
    "plt.plot([i for i in range(100)], np.sin(np.linspace(0, 2*np.pi, 100)))"
   ]
  },
  {
   "cell_type": "code",
   "execution_count": null,
   "id": "5522a50b",
   "metadata": {},
   "outputs": [],
   "source": [
    "x = np.linspace(0, 2*np.pi, 100)\n",
    "y = np.sin(x)\n",
    "plt.plot(x,y)"
   ]
  },
  {
   "cell_type": "code",
   "execution_count": null,
   "id": "164dc61b",
   "metadata": {},
   "outputs": [],
   "source": [
    "\n"
   ]
  }
 ],
 "metadata": {
  "kernelspec": {
   "display_name": "Python 3 (ipykernel)",
   "language": "python",
   "name": "python3"
  },
  "language_info": {
   "codemirror_mode": {
    "name": "ipython",
    "version": 3
   },
   "file_extension": ".py",
   "mimetype": "text/x-python",
   "name": "python",
   "nbconvert_exporter": "python",
   "pygments_lexer": "ipython3",
   "version": "3.11.4"
  }
 },
 "nbformat": 4,
 "nbformat_minor": 5
}
